{
  "nbformat": 4,
  "nbformat_minor": 0,
  "metadata": {
    "colab": {
      "provenance": [],
      "toc_visible": true,
      "authorship_tag": "ABX9TyNyXeA2CZpbz2N3AdDjatDf",
      "include_colab_link": true
    },
    "kernelspec": {
      "name": "python3",
      "display_name": "Python 3"
    },
    "language_info": {
      "name": "python"
    }
  },
  "cells": [
    {
      "cell_type": "markdown",
      "metadata": {
        "id": "view-in-github",
        "colab_type": "text"
      },
      "source": [
        "<a href=\"https://colab.research.google.com/github/teerasitk/signalProcessingInFinance/blob/main/Assignment08.ipynb\" target=\"_parent\"><img src=\"https://colab.research.google.com/assets/colab-badge.svg\" alt=\"Open In Colab\"/></a>"
      ]
    },
    {
      "cell_type": "markdown",
      "source": [
        "# Assignment 8\n",
        "Portfolio Optimization and Pair Trading Stategy"
      ],
      "metadata": {
        "id": "RfKwpDz6gwKi"
      }
    },
    {
      "cell_type": "markdown",
      "source": [
        "## Modules from Lecture 11"
      ],
      "metadata": {
        "id": "XQYigiughOlA"
      }
    },
    {
      "cell_type": "code",
      "execution_count": null,
      "metadata": {
        "id": "iM9rJdEbgdfG"
      },
      "outputs": [],
      "source": [
        "!pip install yfinance\n",
        "import yfinance as yf\n",
        "import pandas as pd\n",
        "import numpy as np \n",
        "import matplotlib.pyplot as plt \n",
        "from statsmodels.tsa.stattools import adfuller\n",
        "from sklearn.linear_model import LinearRegression\n",
        "from typing import Any, Union, Tuple"
      ]
    },
    {
      "cell_type": "code",
      "source": [
        "def findOptPort(data_frames:pd.DataFrame, \n",
        "                target_ret:Any=None\n",
        "                ) -> Tuple[float, float, np.ndarray]:\n",
        "  \"\"\"\n",
        "    minimize half of port variance = 0.5 w^T\\Sigma w\n",
        "    such that\n",
        "    1) Expected Return = target_ret (w^T\\mu = target_ret)\n",
        "    2) sum (w) = 1 (w^Tx1=1)\n",
        "    :param data_frames: data_frames of simple returns\n",
        "    :param target_ret: target return. None for minimum variance portfolio\n",
        "    :return:\n",
        "      r: expected annualized return\n",
        "      vol: expected volatility\n",
        "      w: weight on each stock in a portfolio\n",
        "  \"\"\"\n",
        "  days_in_year = 365 # convert daily to yearly\n",
        "  num_data, num_stocks = data_frames.shape \n",
        "  mu_vector  = data_frames.mean().values # mean vector\n",
        "  cov_matrix = data_frames.cov().values # Sigma\n",
        "  if target_ret is None: # minimum variance portfolio\n",
        "    A = np.zeros((num_stocks + 1, num_stocks + 1)) \n",
        "    A[:num_stocks, :num_stocks] = cov_matrix \n",
        "    A[:num_stocks, -1] = -1\n",
        "    A[-1, :num_stocks] = 1\n",
        "    # A =[\\Sigma | -1_N\n",
        "    #     1_N^T      |0]\n",
        "    # b = [0_N^T | 1]^T\n",
        "    b = np.zeros(num_stocks + 1)\n",
        "    b[:num_stocks] = 0\n",
        "    b[-1] = 1\n",
        "    x = np.linalg.solve(A, b)     \n",
        "    w = x[:-1]\n",
        "    r_min = x[-1] # daily return at minimum variance portfolio\n",
        "    vol = np.sqrt(np.dot(np.dot(w.T, cov_matrix), w) * days_in_year)\n",
        "    r = r_min * days_in_year # yearly return\n",
        "    return r, vol, w  \n",
        "  else:\n",
        "    #  A = [Sigma| -1_N ,-\\mu\n",
        "    #       1_N^T|0,       0 \n",
        "    #       \\mu  |0,       0]\n",
        "    #\n",
        "    # b =[0_N,^T target_ret, 1]^T\n",
        "    A = np.zeros((num_stocks + 2, num_stocks + 2))\n",
        "    A[:num_stocks, :num_stocks] = cov_matrix\n",
        "    A[:num_stocks, -1] = -1\n",
        "    A[-1, :num_stocks] = 1\n",
        "    A[:num_stocks, -2] = -mu_vector\n",
        "    A[-2, :num_stocks] = mu_vector\n",
        "    b = np.zeros(num_stocks + 2)\n",
        "    b[:num_stocks] = 0\n",
        "    b[-2] = target_ret/ days_in_year # convert to daily return\n",
        "    b[-1] = 1\n",
        "    x = np.linalg.solve(A, b)\n",
        "    w = x[:num_stocks]\n",
        "    vol = np.sqrt(np.dot(np.dot(w.T, cov_matrix), w) * days_in_year)\n",
        "    r = target_ret\n",
        "    return r, vol, w"
      ],
      "metadata": {
        "id": "YUDOA61_g7Cy"
      },
      "execution_count": null,
      "outputs": []
    },
    {
      "cell_type": "code",
      "source": [
        "def buildEfficientFrontier(data_frames:pd.DataFrame,\n",
        "                           plot_graph:bool = False\n",
        "                           ) -> Tuple[np.ndarray, np.ndarray]:\n",
        "  \"\"\"\n",
        "  compute the efficient frontier for a given \n",
        "  historical simple returns\n",
        "    :param data_frames: data_frames of simple returns\n",
        "    :param plot_graph: True to plot the efficient frontier\n",
        "    :return: \n",
        "    mean and volatility of efficient fronteir\n",
        "  \"\"\"\n",
        "  days_in_year = 365\n",
        "  num_data, num_stocks = data_frames.shape  \n",
        "  mu_vect  = data_frames.mean()\n",
        "  cov_mat = data_frames.cov()\n",
        "  stock_names = data_frames.columns  \n",
        "  ret_stock = mu_vect * days_in_year\n",
        "  vol_stock  = data_frames.std() * np.sqrt(days_in_year)\n",
        "  r_max = ret_stock.max() * 3\n",
        "  \n",
        "  if plot_graph: # example stock to plot\n",
        "    num_shows = int(0.1*num_stocks)\n",
        "    showed_stocks = np.random.choice(stock_names, size=num_shows)\n",
        "    vol_show = vol_stock[showed_stocks]\n",
        "    mean_show = ret_stock[showed_stocks]\n",
        "    plt.scatter(vol_show, mean_show, c='red')\n",
        "    for stock in showed_stocks:\n",
        "      plt.text(vol_show[stock]*1.02, mean_show[stock],stock)\n",
        "  # find the efficient frontiers\n",
        "  r_min, vol_min, w_min = findOptPort(data_frames) \n",
        "  mean_array = np.linspace(r_min, r_max, 1000)\n",
        "  vol_array = np.zeros((1000,))\n",
        "  for k, rk in enumerate(mean_array):\n",
        "    r, vol, w = findOptPort(data_frames, target_ret =  rk)     \n",
        "    vol_array[k] = vol\n",
        "  if plot_graph:\n",
        "    plt.plot(vol_array, mean_array)\n",
        "    plt.xlabel('Volatility')\n",
        "    plt.ylabel('Return')\n",
        "    plt.title(f\"Return vs Volatility of top {num_stocks} SET Stocks\")\n",
        "    plt.grid()\n",
        "    plt.show()\n",
        "  return vol_array, mean_array"
      ],
      "metadata": {
        "id": "ilGsbpKJhWyc"
      },
      "execution_count": null,
      "outputs": []
    },
    {
      "cell_type": "code",
      "source": [
        "import scipy.optimize as opt \n",
        "def findMarketPortfolio(data_frames: pd.DataFrame, \n",
        "                        rf:float\n",
        "                        ) -> Tuple[np.ndarray, float, float]:\n",
        "  \"\"\"\n",
        "    Find Market Portfolio for a given risk-free interest rate\n",
        "    :param data_frames: data_frames of simple returns\n",
        "    :param rf: risk-free interest rate\n",
        "    :return:\n",
        "      w_opt: Market portfolio \n",
        "      vol_opt: volatility of the market portfolio \n",
        "      ret_best: return of the market portfolio \n",
        "  \"\"\"\n",
        "  def sharpe_ratio(target_ret):\n",
        "    ret, vol, w = findOptPort(data_frames, target_ret)\n",
        "    return (ret - rf)/vol  \n",
        "  r_max = -1e100\n",
        "  days_in_year = 365\n",
        "  num_data, num_stocks = data_frames.shape  \n",
        "  r_min, vol_min, w_in = findOptPort(data_frames)\n",
        "  best_solution = opt.minimize(lambda x: -sharpe_ratio(x), r_min)\n",
        "  ret_best = best_solution['x'][0]\n",
        "  _,vol_opt, w_opt = findOptPort(data_frames, target_ret= ret_best)\n",
        "  return w_opt , vol_opt, ret_best\n"
      ],
      "metadata": {
        "id": "gfgjOLoghZvg"
      },
      "execution_count": null,
      "outputs": []
    },
    {
      "cell_type": "code",
      "source": [
        "def plotCapitalMarketLine(data_frames:pd.DataFrame,\n",
        "                          w_market:np.ndarray, \n",
        "                          vol_market:float, \n",
        "                          ret_market:float,\n",
        "                          rf:float):\n",
        "  \"\"\"\n",
        "  Plot the capital market line\n",
        "  :param data_frames: Simple return \n",
        "  :param w_market: Market Portfolio\n",
        "  :param vol_mark: Market Portfolio volatility\n",
        "  :param: ret_market: Maker Portfolio Return\n",
        "  :parma: rf: risk-free interest\n",
        "  \"\"\"\n",
        "  vols, rets = buildEfficientFrontier(ret, plot_graph=False)\n",
        "  slope = (ret_market - rf)/vol_market\n",
        "  ret_array_line = vols*slope + rf\n",
        "  plt.plot(vols, rets, vols, ret_array_line)\n",
        "  plt.scatter(vol_market, ret_market, c=\"red\")\n",
        "  plt.text(vol_market*1.01, ret_market, \"Market Portfolio\")\n",
        "  plt.xlabel(\"volatility\")\n",
        "  plt.ylabel(\"return\")\n",
        "  plt.grid()\n",
        "  title = \"Capital Market Line with \"\n",
        "  for symbol in data_frames.columns:\n",
        "    title += symbol +\" \"\n",
        "  plt.title(title)\n",
        "  plt.legend([\"Efficient Frontier\", \"Capital Market Line\"])\n",
        "  plt.show()\n"
      ],
      "metadata": {
        "id": "se6a14x-oj-G"
      },
      "execution_count": null,
      "outputs": []
    },
    {
      "cell_type": "code",
      "source": [
        "!pip install qpsolvers\n",
        "from qpsolvers import solve_qp\n",
        "def findOptPortLongOnly(data_frames: pd.DataFrame,\n",
        "                        target_ret:float)->Tuple[float, float, np.ndarray]:\n",
        "  \"\"\"\n",
        "    :param data_frames: data_frames of simple returns\n",
        "    :param target_ret: target return. None for minimum variance portfolio\n",
        "    :return:\n",
        "      r: expected annualized return\n",
        "      vol: expected volatility\n",
        "      w: weight on each stock in a portfolio\n",
        "\n",
        "  \"\"\"\n",
        "  days_in_year = 365\n",
        "  num_data, num_stocks = data_frames.shape  \n",
        "  mu_vector  = data_frames.mean().values\n",
        "  cov_matrix = data_frames.cov().values\n",
        "  num_stocks = mu_vector.shape[0]\n",
        "  P = cov_matrix\n",
        "  q = np.zeros((num_stocks,))\n",
        "  G = np.ones((1, num_stocks))\n",
        "  h = np.array([1])\n",
        "  A = mu_vector.reshape(1,-1)\n",
        "  b = np.array([target_ret/days_in_year])\n",
        "  lb = np.zeros((num_stocks,))\n",
        "  ub = np.ones((num_stocks,))\n",
        "  w = solve_qp(P,q,G,h,A,b,lb,ub,verbose=True, solver='cvxopt')\n",
        "  vol = np.sqrt(np.dot(np.dot(w.T, cov_matrix),w) *days_in_year)\n",
        "  r = np.dot(mu_vector,w) * days_in_year\n",
        "  return r, vol, w\n"
      ],
      "metadata": {
        "colab": {
          "base_uri": "https://localhost:8080/"
        },
        "id": "CJn8Kc7qs1sg",
        "outputId": "bc4268fe-e6d1-4b8b-8781-66b059270d1a"
      },
      "execution_count": null,
      "outputs": [
        {
          "output_type": "stream",
          "name": "stdout",
          "text": [
            "Looking in indexes: https://pypi.org/simple, https://us-python.pkg.dev/colab-wheels/public/simple/\n",
            "Requirement already satisfied: qpsolvers in /usr/local/lib/python3.8/dist-packages (3.1.0)\n",
            "Requirement already satisfied: ecos>=2.0.8 in /usr/local/lib/python3.8/dist-packages (from qpsolvers) (2.0.12)\n",
            "Requirement already satisfied: scipy>=1.2.0 in /usr/local/lib/python3.8/dist-packages (from qpsolvers) (1.10.1)\n",
            "Requirement already satisfied: numpy>=1.15.4 in /usr/local/lib/python3.8/dist-packages (from qpsolvers) (1.22.4)\n",
            "Requirement already satisfied: scs>=3.2.0 in /usr/local/lib/python3.8/dist-packages (from qpsolvers) (3.2.2)\n",
            "Requirement already satisfied: osqp>=0.6.2 in /usr/local/lib/python3.8/dist-packages (from qpsolvers) (0.6.2.post0)\n",
            "Requirement already satisfied: qdldl in /usr/local/lib/python3.8/dist-packages (from osqp>=0.6.2->qpsolvers) (0.1.5.post3)\n"
          ]
        }
      ]
    },
    {
      "cell_type": "code",
      "source": [
        "def buildEfficientFrontierLongOnly(data_frames:pd.DataFrame,\n",
        "                                   plot_graph:bool = False\n",
        "                                   )->Tuple[np.ndarray, np.ndarray]:\n",
        "  \"\"\"\n",
        "    Build Efficient Frontier for long only portfolio\n",
        "    :param data_frames: data_frames of simple returns\n",
        "    :return:\n",
        "    vol_array: volatility of efficinet frontier\n",
        "    mean_array: return of efficinet frontier\n",
        "  \"\"\"\n",
        "  days_in_year = 365\n",
        "  num_data, num_stocks = data_frames.shape  \n",
        "  mu_vect  = data_frames.mean().values  \n",
        "  r_min = 0\n",
        "  r_max = mu_vect.max()*days_in_year\n",
        "  mean_array = np.linspace(r_min, r_max, 1000)\n",
        "  vol_array = np.zeros((1000,))\n",
        "  for k in range(1000):\n",
        "    rk,volk, wk = findOptPortLongOnly(data_frames, target_ret=mean_array[k])\n",
        "    vol_array[k] = volk\n",
        "  if plot_graph:\n",
        "    plt.plot(vol_array, mean_array)\n",
        "    plt.xlabel('Volatility')\n",
        "    plt.ylabel('Return')\n",
        "    plt.title(f\"Return vs Volatility of {num_stocks} SET Stocks\")\n",
        "    plt.grid()\n",
        "    plt.show()\n",
        "  return vol_array, mean_array"
      ],
      "metadata": {
        "id": "kQ0vto5ZtEA2"
      },
      "execution_count": null,
      "outputs": []
    },
    {
      "cell_type": "markdown",
      "source": [
        "## Modules from Lecture 12"
      ],
      "metadata": {
        "id": "AxM2bnEE3yTr"
      }
    },
    {
      "cell_type": "code",
      "source": [
        "class STATUS:\n",
        "  LONG = \"long\"\n",
        "  SHORT = \"short\"\n",
        "  NO_POSITION = \"no position\""
      ],
      "metadata": {
        "id": "KioQOswm301F"
      },
      "execution_count": null,
      "outputs": []
    },
    {
      "cell_type": "code",
      "source": [
        "from sklearn.linear_model import LinearRegression # build Linear Regression Line\n",
        "from statsmodels.tsa.stattools import adfuller # ADF Test for statistionart \n",
        "def buildLinearRegression(y1, y2):\n",
        "  lin_model = LinearRegression() # initialize linear regression\n",
        "  y = y1.values\n",
        "  x = y2.values.reshape(-1,1) # always need to be nx1\n",
        "  lin_model.fit(x, y)\n",
        "  error = y - lin_model.predict(x)\n",
        "  statistics,p_value,*_ = adfuller(error) # get only statistic and p-value ignore the rest\n",
        "  return lin_model, statistics, p_value\n"
      ],
      "metadata": {
        "id": "yX9O5GCW35I2"
      },
      "execution_count": null,
      "outputs": []
    },
    {
      "cell_type": "code",
      "source": [
        "# Note that z = p1 - a * p2 - b\n",
        "# we cannot long or short b. Thus, we will long and short only p1 -a * p2\n",
        "def longSpread(p1t, p2t, a, cash, trans_cost=0):\n",
        "  if a > 0: # long p1 and short p2\n",
        "    p1_actual_price = p1t * (1 + trans_cost) # pay more when long\n",
        "    p2_actual_price = p2t * (1 - trans_cost) # get less when short\n",
        "  else: # long both p1 and p2 \n",
        "    p1_actual_price = p1t * (1 + trans_cost) # long P1\n",
        "    p2_actual_price = p2t * (1 + trans_cost) # long P2\n",
        "  spread_share = cash / (p1_actual_price + np.abs(a) * p2_actual_price) \n",
        "  # Do not use cash more than what we have \n",
        "  s1 = spread_share # always long\n",
        "  cash -= s1 * p1_actual_price # cash pays for buying s1\n",
        "  s2 = -a * spread_share # stock2 that we owe\n",
        "  cash -= s2 * p2_actual_price # get from short s2\n",
        "  return s1, s2, cash\n",
        "\n",
        "def shortSpread(p1t, p2t, a, cash, trans_cost=0):\n",
        "  if a > 0: # short p1 and long p2\n",
        "    p1_actual_price = p1t * (1 - trans_cost) # pay more when long\n",
        "    p2_actual_price = p2t * (1 + trans_cost) # get less when short\n",
        "  else: # short both p1 and p2 \n",
        "    p1_actual_price = p1t * (1 - trans_cost)\n",
        "    p2_actual_price = p2t * (1 - trans_cost)\n",
        "  spread_share = cash / (p1_actual_price  + np.abs(a) * p2_actual_price) \n",
        "  # Do not use cash more than what we have \n",
        "  s1 = -spread_share # alway shorts\n",
        "  cash -= s1 * p1_actual_price # cash pays for buying s1\n",
        "  s2 = a * spread_share # stock2 that we owe\n",
        "  cash -= s2 * p2_actual_price # get from short s2\n",
        "  return s1, s2, cash\n",
        "\n",
        "\n",
        "def closePosition(p1t, p2t, s1, s2, a, status, trans_cost=0):\n",
        "  sign_a = np.sign(a)\n",
        "  if status == STATUS.LONG: # close from long spread\n",
        "    cash1 = s1 * p1t * (1 - sign_a * trans_cost) # get less due to long\n",
        "    cash2 = s2 * p2t * (1 + sign_a * trans_cost) # pay more due to short\n",
        "  elif status == STATUS.SHORT: # close from short spread\n",
        "    cash1 = s1 * p1t * (1 + sign_a * trans_cost) # get less due to short\n",
        "    cash2 = s2 * p2t * (1 - sign_a * trans_cost) # pay more due to long\n",
        "  else:\n",
        "    raise ValueError(f\"status can be either {STATUS.LONG} or {STATUS.SHORT}\")\n",
        "  return cash1 + cash2"
      ],
      "metadata": {
        "id": "VH-OjScr4C0T"
      },
      "execution_count": null,
      "outputs": []
    },
    {
      "cell_type": "code",
      "source": [
        "def pairTrade(p1, p2, z_th, a, b, init_wealth=1_000_000, trans_cost=0):\n",
        "  status = STATUS.NO_POSITION\n",
        "  stock1 = stock2 = 0\n",
        "  cash = init_wealth\n",
        "  wealth = pd.Series()\n",
        "  signal = pd.Series()\n",
        "  for k, (p1t, p2t, t_k) in enumerate(zip(p1,p2, p1.index)):\n",
        "    e = p1t - a * p2t - b\n",
        "    if status == STATUS.NO_POSITION:\n",
        "      if e > z_th: # SHORT SELL Spread\n",
        "        stock1, stock2, cash = shortSpread(p1t, p2t, a, cash, trans_cost)\n",
        "        status = STATUS.SHORT\n",
        "      elif e < -z_th: # Long \n",
        "        stock1, stock2, cash = longSpread(p1t, p2t, a, cash, trans_cost)\n",
        "        status = STATUS.LONG\n",
        "    elif status == STATUS.LONG:\n",
        "      if e >= 0: # Close Long Position\n",
        "        cash += closePosition(p1t, p2t, stock1, stock2, a, status, trans_cost)\n",
        "        stock1 = stock2 = 0\n",
        "        status = STATUS.NO_POSITION\n",
        "    else: # STATUS == STATUS.SHORT\n",
        "      if e <=0 : # Close short position\n",
        "        cash += closePosition(p1t, p2t, stock1, stock2, a, status, trans_cost)\n",
        "        stock1 = stock2 = 0\n",
        "        status = STATUS.NO_POSITION\n",
        "    if status == STATUS.NO_POSITION:\n",
        "      signal[t_k] = 0\n",
        "    elif status == STATUS.LONG:\n",
        "      signal[t_k] = 1\n",
        "    else:\n",
        "      signal[t_k] = -1\n",
        "    cur_wealth = p1t * stock1 + p2t*stock2 + cash\n",
        "    wealth[t_k] = cur_wealth\n",
        "    #print(f\"{status}, {stock1}, {stock2}, {cash}\")\n",
        "  return wealth, signal"
      ],
      "metadata": {
        "id": "M0LzvgJ-4EYr"
      },
      "execution_count": null,
      "outputs": []
    },
    {
      "cell_type": "code",
      "source": [
        "reg_models = dict()\n",
        "min_adf = np.inf\n",
        "for col in prices.columns:\n",
        "  x0 = prices[col]\n",
        "  x1 = prices.drop(col, axis=1)\n",
        "  lin_model = LinearRegression()\n",
        "  lin_model.fit(x1,x0) \n",
        "  x0_hat = lin_model.predict(x1)\n",
        "  error = x0 - x0_hat \n",
        "  adf, p_value, *_ = adfuller(error, maxlag=1)\n",
        "  # print(col, adf, p_value)\n",
        "  reg_models[col] = lin_model\n",
        "  if min_adf > adf:\n",
        "    best_model = lin_model\n",
        "    min_adf = adf\n",
        "    best_p_value = p_value\n",
        "    target = col \n",
        "    opt_coef = lin_model.coef_\n",
        "    opt_intercept = lin_model.intercept_\n",
        "    best_x1 = x1\n",
        "    best_x0 = x0\n",
        "print(f\"Best model is to predict {target} with ADF: {min_adf} and p_value: {best_p_value}\")"
      ],
      "metadata": {
        "id": "8kxjhMbL4QHH"
      },
      "execution_count": null,
      "outputs": []
    },
    {
      "cell_type": "markdown",
      "source": [
        "# 1. Find Efficient Market Porfolio in 2021 from stocks in the list given below"
      ],
      "metadata": {
        "id": "F5kxsa43u4TE"
      }
    },
    {
      "cell_type": "code",
      "source": [
        "set50 = ['ADVANC', 'AOT', 'AWC', 'BANPU', 'BBL', 'BDMS', 'BEM', 'BGRIM', 'BH', \n",
        "         'BLA', 'BTS', 'CBG', 'CPALL', 'CPF', 'CPN', 'CRC', 'DTAC', 'EA', \n",
        "         'EGCO', 'GLOBAL', 'GPSC', 'GULF', 'HMPRO', 'INTUCH', 'IRPC', 'IVL', \n",
        "         'JMART', 'JMT', 'KBANK', 'KCE', 'KTB', 'KTC', 'LH', 'MINT', 'MTC', \n",
        "          'OSP', 'PTT', 'PTTEP', 'PTTGC', 'SAWAD', 'SCC', 'SCGP',\n",
        "         'TIDLOR', 'TISCO', 'TOP', 'TRUE', 'TTB', 'TU']"
      ],
      "metadata": {
        "id": "f0AH6c2zn-sk"
      },
      "execution_count": null,
      "outputs": []
    },
    {
      "cell_type": "code",
      "source": [
        "# Code is here"
      ],
      "metadata": {
        "id": "XVbW7SwirhDx"
      },
      "execution_count": null,
      "outputs": []
    },
    {
      "cell_type": "markdown",
      "source": [
        "## Solution: Find the top 5 stocks in the market portfolio. Here, we only consider the magnitude \n",
        "1. _____ Position:_____\n",
        "2. _____ Position:_____\n",
        "3. _____ Position:_____\n",
        "4. _____ Position:_____\n",
        "5. _____ Position:_____"
      ],
      "metadata": {
        "id": "BsLmIB7kvZ4H"
      }
    },
    {
      "cell_type": "markdown",
      "source": [
        "# 2. Do you think it is possible to construct the market portfolio? why?"
      ],
      "metadata": {
        "id": "WUWclSVZ0xhE"
      }
    },
    {
      "cell_type": "markdown",
      "source": [
        "## Solution: "
      ],
      "metadata": {
        "id": "QyFnh_Gx09ip"
      }
    },
    {
      "cell_type": "markdown",
      "source": [
        "#3. Plot the Capital Market Line where $r_f=2\\%$"
      ],
      "metadata": {
        "id": "JcA8ls3tw22N"
      }
    },
    {
      "cell_type": "code",
      "source": [
        "# Add your code here"
      ],
      "metadata": {
        "id": "jBOfxmJvr0ss"
      },
      "execution_count": null,
      "outputs": []
    },
    {
      "cell_type": "markdown",
      "source": [
        "# 4. Find the Beta of all stock against the market portfolio. \n",
        "Report Stock with higest Beta, and all\n",
        "stocks with negative beta"
      ],
      "metadata": {
        "id": "ZVwOFwP7w-7d"
      }
    },
    {
      "cell_type": "code",
      "source": [
        "# code here"
      ],
      "metadata": {
        "id": "hcs7Oyo_sSrl"
      },
      "execution_count": null,
      "outputs": []
    },
    {
      "cell_type": "markdown",
      "source": [
        "## Solution:\n",
        "Highest Beta: ______\n",
        "\n",
        "Negative Beta:\n",
        "\n",
        "  Stock1: ____ Beta:____\n",
        "\n",
        "  ... "
      ],
      "metadata": {
        "id": "yDFqsSlrygie"
      }
    },
    {
      "cell_type": "markdown",
      "source": [
        "#5. Use the set50 indexin set50Index2022.xlsx as the market portfolio. Compute Beta of all stocks. Find the highest Beta and all Negative one."
      ],
      "metadata": {
        "id": "zEvJLA5RzO0F"
      }
    },
    {
      "cell_type": "code",
      "source": [
        "# Code is here"
      ],
      "metadata": {
        "id": "BI5K9FY-zCms"
      },
      "execution_count": null,
      "outputs": []
    },
    {
      "cell_type": "markdown",
      "source": [
        "## Solution:\n",
        "Highest Beta: ______\n",
        "\n",
        "Negative Beta:\n",
        "\n",
        "  Stock1: ____ Beta:____\n",
        "\n",
        "  ... "
      ],
      "metadata": {
        "id": "ujaRfsDP3SzL"
      }
    },
    {
      "cell_type": "markdown",
      "source": [
        "# 6. We will use Data in 2017-2021 to find 1 pair trade of set 50.\n",
        "The criteria in choosing the pair are given below\n",
        "1. For a spread defined as $ɛ_t = y_{1t} - \\gamma\\times y_{2t} - \\mu$, we want stock with negative $\\gamma$, i.e., $\\gamma < 0$ so that we will take long and short positions on both stock when trading on the spread.\n",
        "2. $p$-value must be the smallest among pairs in (1)."
      ],
      "metadata": {
        "id": "95S6pTQ13aEj"
      }
    },
    {
      "cell_type": "code",
      "source": [
        "# Code is here"
      ],
      "metadata": {
        "id": "xmSsHbAB4v7D"
      },
      "execution_count": null,
      "outputs": []
    },
    {
      "cell_type": "markdown",
      "source": [
        "## Solution: This pair is (1) ___ and (2) ___. Here, we will use (2) to predict (1)"
      ],
      "metadata": {
        "id": "6hPpoQw29U28"
      }
    },
    {
      "cell_type": "markdown",
      "source": [
        "# 9. Perform Pair Trade with both Long and Short Spread with $N/T = 0.10$ and transcation cost = 1%\n",
        "\n",
        "\n"
      ],
      "metadata": {
        "id": "JqmfpiPg9lZj"
      }
    },
    {
      "cell_type": "code",
      "source": [
        "# code here"
      ],
      "metadata": {
        "id": "vGojttrB9vVP"
      },
      "execution_count": null,
      "outputs": []
    },
    {
      "cell_type": "markdown",
      "source": [
        "## Solution:\n",
        "* Gain(or Loss) at the end of 2021:______________.\n",
        "* Number of Long: ______ and Short: _____ during 5 years."
      ],
      "metadata": {
        "id": "M5gVfJleWshT"
      }
    },
    {
      "cell_type": "markdown",
      "source": [
        "# 10. Perform Pair Trade with **Long** Only on the Spread with $N/T = 0.1$"
      ],
      "metadata": {
        "id": "A212W9gK_W5s"
      }
    },
    {
      "cell_type": "code",
      "source": [
        "# build your own long only spread trading"
      ],
      "metadata": {
        "id": "O7VgLzNS_TjT"
      },
      "execution_count": null,
      "outputs": []
    },
    {
      "cell_type": "code",
      "source": [
        "# Other codes"
      ],
      "metadata": {
        "id": "zL7WIRj7_ldr"
      },
      "execution_count": null,
      "outputs": []
    },
    {
      "cell_type": "markdown",
      "source": [
        "## Solution:\n",
        "* Gain(or Loss) at the end of 2021:______________.\n",
        "* Number of Long: ___________ during 5 years."
      ],
      "metadata": {
        "id": "2EVD0C_TXBg-"
      }
    },
    {
      "cell_type": "markdown",
      "source": [
        "# 11. Use the same spread function to trade on 2022 stocks, and repeat 9 and 10 "
      ],
      "metadata": {
        "id": "qSOJgw2EWbNU"
      }
    },
    {
      "cell_type": "code",
      "source": [
        "# code here"
      ],
      "metadata": {
        "id": "I83u7hyt_wPE"
      },
      "execution_count": null,
      "outputs": []
    },
    {
      "cell_type": "markdown",
      "source": [
        "## Solution:\n",
        "* Gain (Loss) in 2022 with Long and short: ____\n",
        "* Gain (Loss) in 2022 with Long Only: ____"
      ],
      "metadata": {
        "id": "iGU5KmvOXMee"
      }
    },
    {
      "cell_type": "markdown",
      "source": [
        "# 12. In your opinion, do you think whether we should trade on the stock pair with negativen $\\gamma$ or not? Provide the reason"
      ],
      "metadata": {
        "id": "Fwgn5gRjYIkC"
      }
    },
    {
      "cell_type": "markdown",
      "source": [
        "## Solution:_______"
      ],
      "metadata": {
        "id": "80XCc1pZYYJX"
      }
    }
  ]
}