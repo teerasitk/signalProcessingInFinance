{
  "nbformat": 4,
  "nbformat_minor": 0,
  "metadata": {
    "colab": {
      "provenance": [],
      "authorship_tag": "ABX9TyNUkjtIg9MP8j/vdY1luAnd",
      "include_colab_link": true
    },
    "kernelspec": {
      "name": "python3",
      "display_name": "Python 3"
    }
  },
  "cells": [
    {
      "cell_type": "markdown",
      "metadata": {
        "id": "view-in-github",
        "colab_type": "text"
      },
      "source": [
        "<a href=\"https://colab.research.google.com/github/teerasitk/signalProcessingInFinance/blob/main/Assignment_02.ipynb\" target=\"_parent\"><img src=\"https://colab.research.google.com/assets/colab-badge.svg\" alt=\"Open In Colab\"/></a>"
      ]
    },
    {
      "cell_type": "markdown",
      "source": [
        "# SET 50 Statistics"
      ],
      "metadata": {
        "id": "-fd1jCF9WkN7"
      }
    },
    {
      "cell_type": "markdown",
      "source": [
        "1. List of SET50 in to array"
      ],
      "metadata": {
        "id": "cVnKvJtRWrUQ"
      }
    },
    {
      "cell_type": "code",
      "metadata": {
        "id": "gpzH6e0Rw9W_"
      },
      "source": [
        "set50 = [\"ADVANC\", ] # add all "
      ],
      "execution_count": null,
      "outputs": []
    },
    {
      "cell_type": "markdown",
      "source": [
        "##1. Install yahoo fiance"
      ],
      "metadata": {
        "id": "SVhF-GESW3s7"
      }
    },
    {
      "cell_type": "code",
      "metadata": {
        "id": "ha8lbK_EyUIe",
        "colab": {
          "base_uri": "https://localhost:8080/"
        },
        "outputId": "d38cdb33-bb41-492a-bdfa-812a03e4f69b"
      },
      "source": [
        "!pip install yfinance\n",
        "import yfinance as yf\n",
        "import pandas as pd\n",
        "import numpy as np "
      ],
      "execution_count": 2,
      "outputs": [
        {
          "output_type": "stream",
          "name": "stdout",
          "text": [
            "Looking in indexes: https://pypi.org/simple, https://us-python.pkg.dev/colab-wheels/public/simple/\n",
            "Requirement already satisfied: yfinance in /usr/local/lib/python3.8/dist-packages (0.2.1)\n",
            "Requirement already satisfied: requests>=2.26 in /usr/local/lib/python3.8/dist-packages (from yfinance) (2.28.1)\n",
            "Requirement already satisfied: pytz>=2022.5 in /usr/local/lib/python3.8/dist-packages (from yfinance) (2022.6)\n",
            "Requirement already satisfied: appdirs>=1.4.4 in /usr/local/lib/python3.8/dist-packages (from yfinance) (1.4.4)\n",
            "Requirement already satisfied: cryptography>=3.3.2 in /usr/local/lib/python3.8/dist-packages (from yfinance) (38.0.4)\n",
            "Requirement already satisfied: numpy>=1.16.5 in /usr/local/lib/python3.8/dist-packages (from yfinance) (1.21.6)\n",
            "Requirement already satisfied: pandas>=1.3.0 in /usr/local/lib/python3.8/dist-packages (from yfinance) (1.3.5)\n",
            "Requirement already satisfied: frozendict>=2.3.4 in /usr/local/lib/python3.8/dist-packages (from yfinance) (2.3.4)\n",
            "Requirement already satisfied: multitasking>=0.0.7 in /usr/local/lib/python3.8/dist-packages (from yfinance) (0.0.11)\n",
            "Requirement already satisfied: html5lib>=1.1 in /usr/local/lib/python3.8/dist-packages (from yfinance) (1.1)\n",
            "Requirement already satisfied: lxml>=4.9.1 in /usr/local/lib/python3.8/dist-packages (from yfinance) (4.9.2)\n",
            "Requirement already satisfied: beautifulsoup4>=4.11.1 in /usr/local/lib/python3.8/dist-packages (from yfinance) (4.11.1)\n",
            "Requirement already satisfied: soupsieve>1.2 in /usr/local/lib/python3.8/dist-packages (from beautifulsoup4>=4.11.1->yfinance) (2.3.2.post1)\n",
            "Requirement already satisfied: cffi>=1.12 in /usr/local/lib/python3.8/dist-packages (from cryptography>=3.3.2->yfinance) (1.15.1)\n",
            "Requirement already satisfied: pycparser in /usr/local/lib/python3.8/dist-packages (from cffi>=1.12->cryptography>=3.3.2->yfinance) (2.21)\n",
            "Requirement already satisfied: webencodings in /usr/local/lib/python3.8/dist-packages (from html5lib>=1.1->yfinance) (0.5.1)\n",
            "Requirement already satisfied: six>=1.9 in /usr/local/lib/python3.8/dist-packages (from html5lib>=1.1->yfinance) (1.15.0)\n",
            "Requirement already satisfied: python-dateutil>=2.7.3 in /usr/local/lib/python3.8/dist-packages (from pandas>=1.3.0->yfinance) (2.8.2)\n",
            "Requirement already satisfied: charset-normalizer<3,>=2 in /usr/local/lib/python3.8/dist-packages (from requests>=2.26->yfinance) (2.1.1)\n",
            "Requirement already satisfied: urllib3<1.27,>=1.21.1 in /usr/local/lib/python3.8/dist-packages (from requests>=2.26->yfinance) (1.24.3)\n",
            "Requirement already satisfied: idna<4,>=2.5 in /usr/local/lib/python3.8/dist-packages (from requests>=2.26->yfinance) (2.10)\n",
            "Requirement already satisfied: certifi>=2017.4.17 in /usr/local/lib/python3.8/dist-packages (from requests>=2.26->yfinance) (2022.12.7)\n"
          ]
        }
      ]
    },
    {
      "cell_type": "markdown",
      "source": [
        "##2. Download all the stock prices in 2022"
      ],
      "metadata": {
        "id": "bHYo2KYeW7GU"
      }
    },
    {
      "cell_type": "code",
      "source": [
        "#Example code to download price on one stock in 2021\n",
        "stock_info = dict() # create empty dictionary\n",
        "sym = \"ADVANC\" # stock symbol\n",
        "df = yf.download(sym + \".BK\", start=\"2022-01-01\", end=\"2022-12-31\") # download 2022 data\n",
        "close_price = df['Adj Close'].dropna() # drop NA out from adjusted closed price\n",
        "close_price = close_price.values # take out just values\n",
        "ret = close_price[1:]/close_price[:-1] - 1 # daily return\n",
        "annual_ret = close_price[-1]/ close_price[0] - 1 # annual return\n",
        "stock_info[sym] = [close_price[0], close_price[-1],annual_ret, ret.mean(), ret.std()] # record statistics\n",
        "# make it a pandas dataframe\n",
        "stock_info = pd.DataFrame(stock_info, index=[\"Open\", \"Close\", \"Annual Return\", \"Average Daily Return\", \"Average Daily STD\"])\n",
        "stock_info = stock_info.tranpose() # change index to stock symbol\n",
        "stock_info.to_excel(\"advance.xlsx\") # save to excel file"
      ],
      "metadata": {
        "colab": {
          "base_uri": "https://localhost:8080/"
        },
        "id": "sWXoPVGGXbBZ",
        "outputId": "e41213bf-94da-4114-892b-a5993a94223c"
      },
      "execution_count": 12,
      "outputs": [
        {
          "output_type": "stream",
          "name": "stdout",
          "text": [
            "\r[*********************100%***********************]  1 of 1 completed\n"
          ]
        }
      ]
    },
    {
      "cell_type": "markdown",
      "source": [
        "## 3. Download advance.xlsx\n",
        "What do you see in the file?"
      ],
      "metadata": {
        "id": "AoEDi_oYZufe"
      }
    },
    {
      "cell_type": "markdown",
      "source": [
        "### Answer to Question 3:"
      ],
      "metadata": {
        "id": "-eOYTgmTaLr3"
      }
    },
    {
      "cell_type": "markdown",
      "source": [
        "## 4. Determine Open, Close, Annaul Return, Average Daily Return, and Average Daily STD of all set 50 stocks  and save into set50.*xlsx*"
      ],
      "metadata": {
        "id": "JltE5maLZ5_0"
      }
    },
    {
      "cell_type": "code",
      "metadata": {
        "id": "x3qZhTawyYAI"
      },
      "source": [
        "# Your code is here"
      ],
      "execution_count": null,
      "outputs": []
    },
    {
      "cell_type": "markdown",
      "source": [
        "## 5. sort stocks from highest annual return to the lowest one. \n",
        "Here dataframe.sort_values(ascending=False) to sort largest to smallest annual retur"
      ],
      "metadata": {
        "id": "iEwfFAuDagUq"
      }
    },
    {
      "cell_type": "code",
      "metadata": {
        "id": "zPDgO5rx_VAY"
      },
      "source": [
        "# try it by yourselves"
      ],
      "execution_count": null,
      "outputs": []
    },
    {
      "cell_type": "markdown",
      "source": [
        "### Answer here\n",
        "Stock with Higest Return: ______ and Stock with Lowest Return: ______"
      ],
      "metadata": {
        "id": "ZqwcbAtifV9r"
      }
    },
    {
      "cell_type": "markdown",
      "source": [
        "## 6. Sort stocks based on the standard deviation from highest to lowest one. "
      ],
      "metadata": {
        "id": "T6Bd2RBwfzMa"
      }
    },
    {
      "cell_type": "code",
      "metadata": {
        "id": "cuZFdm-hMIPU"
      },
      "source": [
        "# try it by yourselves"
      ],
      "execution_count": null,
      "outputs": []
    },
    {
      "cell_type": "markdown",
      "source": [
        "### Answer here\n",
        "Stock with Higest STD:_____ and Stock with Lowest Return: ____"
      ],
      "metadata": {
        "id": "KUFLVqjkgGyi"
      }
    },
    {
      "cell_type": "markdown",
      "source": [
        "## 7. Sort a stock based on the ratio of average daily return over average daily std "
      ],
      "metadata": {
        "id": "p8IslrXWgTkU"
      }
    },
    {
      "cell_type": "code",
      "metadata": {
        "id": "aKTKbgvNyhOq",
        "outputId": "dec25283-ab74-4518-c6ec-f8f9a90edfd4",
        "colab": {
          "base_uri": "https://localhost:8080/",
          "height": 204
        }
      },
      "source": [
        "# try it yourselves"
      ],
      "execution_count": null,
      "outputs": [
        {
          "output_type": "stream",
          "text": [
            "CBG         13.754110\n",
            "GLOBAL      19.579217\n",
            "CPF         23.580091\n",
            "TU          34.042796\n",
            "OSP         71.024298\n",
            "TTW         75.340641\n",
            "HMPRO      115.852697\n",
            "EA         132.337966\n",
            "INTUCH     160.671081\n",
            "BJC       1433.759917\n",
            "dtype: float64\n"
          ],
          "name": "stdout"
        }
      ]
    },
    {
      "cell_type": "markdown",
      "source": [
        "### Answer here\n",
        "Stock with Higest Ratio:**______** and Stock with Lowest Return: **_____**"
      ],
      "metadata": {
        "id": "osZJb0lihFKc"
      }
    },
    {
      "cell_type": "markdown",
      "source": [
        "## 8. Find the mean and standard deviation ratio of all stocks.\n",
        "\n",
        "Note that you will use \".mean()\" and \".std()\""
      ],
      "metadata": {
        "id": "dhNgqHDrhdXS"
      }
    },
    {
      "cell_type": "code",
      "source": [
        "# try it yourselves"
      ],
      "metadata": {
        "id": "H8jrTUG2h00O"
      },
      "execution_count": null,
      "outputs": []
    },
    {
      "cell_type": "markdown",
      "source": [
        "Mean: **_______** and STD:**____**"
      ],
      "metadata": {
        "id": "JRF1fvIxh0WG"
      }
    },
    {
      "cell_type": "markdown",
      "source": [
        "## 9. We will use z-score to see each stock performance \n",
        "$z = \\frac{r - \\mu_r}{\\sigma_r/\\sqrt{N}}$\n",
        "\n",
        "\n",
        "where $\\mu_r$, $\\sigma_r$, $N$ are mean, standard deviation, and number of stocks.\n",
        "\n",
        "Compute z score from all stocks"
      ],
      "metadata": {
        "id": "GBFsjZ3jiEIg"
      }
    },
    {
      "cell_type": "code",
      "source": [
        "# try it yourselves"
      ],
      "metadata": {
        "id": "eTRM_j9BiAnH"
      },
      "execution_count": null,
      "outputs": []
    },
    {
      "cell_type": "markdown",
      "source": [
        "## 10. If we wan to test between\n",
        "$H_0$: Stock perform similarly to the group of SET50\n",
        "\n",
        "$H_1$: Stock perform better than the group of SET50\n",
        "\n",
        "$p$-value is compute from \n",
        "$p= 1-\\Phi(z)$\n",
        "\n",
        "**Determine stocks with $p$-value less than 0.05, namely stocks that outperforms the group.**"
      ],
      "metadata": {
        "id": "U_pCVjf7inDD"
      }
    },
    {
      "cell_type": "code",
      "source": [
        "# example code for compute p-value for z = 1\n",
        "from scipy.stats import norm\n",
        "z= 1\n",
        "p =  1- norm.cdf(z)\n",
        "print(p)"
      ],
      "metadata": {
        "colab": {
          "base_uri": "https://localhost:8080/"
        },
        "id": "Rn9yL9UojRV4",
        "outputId": "9cde7108-cbac-4cc7-f7f0-908d717d2e43"
      },
      "execution_count": 14,
      "outputs": [
        {
          "output_type": "stream",
          "name": "stdout",
          "text": [
            "0.15865525393145707\n"
          ]
        }
      ]
    },
    {
      "cell_type": "markdown",
      "source": [
        "### Answer: **_____** outperforms the rest of SET50 with significance level of 5%\n"
      ],
      "metadata": {
        "id": "9PibVIUZjN1O"
      }
    }
  ]
}