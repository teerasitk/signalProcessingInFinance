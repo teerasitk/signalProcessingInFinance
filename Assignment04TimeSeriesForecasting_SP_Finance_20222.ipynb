{
  "nbformat": 4,
  "nbformat_minor": 0,
  "metadata": {
    "colab": {
      "provenance": [],
      "authorship_tag": "ABX9TyMCouqOCUaHOPi2U0XGgZ1F",
      "include_colab_link": true
    },
    "kernelspec": {
      "name": "python3",
      "display_name": "Python 3"
    },
    "language_info": {
      "name": "python"
    }
  },
  "cells": [
    {
      "cell_type": "markdown",
      "metadata": {
        "id": "view-in-github",
        "colab_type": "text"
      },
      "source": [
        "<a href=\"https://colab.research.google.com/github/teerasitk/signalProcessingInFinance/blob/main/Assignment04TimeSeriesForecasting_SP_Finance_20222.ipynb\" target=\"_parent\"><img src=\"https://colab.research.google.com/assets/colab-badge.svg\" alt=\"Open In Colab\"/></a>"
      ]
    },
    {
      "cell_type": "markdown",
      "source": [
        "# Time-Series statistics for Financial Time-Series Analysis\n",
        "The goal of this assignment is to enable students to under the importance of statistics in the financial time analysis and forecast. "
      ],
      "metadata": {
        "id": "aNTeAqrDobMe"
      }
    },
    {
      "cell_type": "markdown",
      "source": [
        "## Prepare libraries"
      ],
      "metadata": {
        "id": "3ZcCYr1LowCD"
      }
    },
    {
      "cell_type": "code",
      "execution_count": null,
      "metadata": {
        "id": "IvWw1ACSoUQU"
      },
      "outputs": [],
      "source": [
        "!pip install yfinance\n",
        "import yfinance as yf\n",
        "import pandas as pd\n",
        "import numpy as np \n",
        "import datetime as dt\n",
        "import matplotlib.pyplot as plt\n",
        "from scipy.stats import norm, t\n",
        "import requests "
      ]
    },
    {
      "cell_type": "markdown",
      "source": [
        "## Get all set50 symbols"
      ],
      "metadata": {
        "id": "Py_5ZtzepkFE"
      }
    },
    {
      "cell_type": "code",
      "source": [
        "url = 'https://classic.set.or.th/mkt/sectorquotation.do?sector=SET50&language=en&country=US'\n",
        "html = requests.get(url).content\n",
        "df_list = pd.read_html(html)\n",
        "df = df_list[-1]\n",
        "set50_lis = df['Symbol']\n",
        "set50 = np.array(set50_lis)\n",
        "print(set50)"
      ],
      "metadata": {
        "colab": {
          "base_uri": "https://localhost:8080/"
        },
        "id": "4Gi8xD72pjok",
        "outputId": "0439d88f-0a14-496e-c1c0-a5b8aef29dd0"
      },
      "execution_count": null,
      "outputs": [
        {
          "output_type": "stream",
          "name": "stdout",
          "text": [
            "['ADVANC' 'AOT' 'AWC' 'BANPU' 'BBL' 'BDMS' 'BEM' 'BGRIM' 'BH' 'BTS' 'CBG'\n",
            " 'CENTEL' 'COM7' 'CPALL' 'CPF' 'CPN' 'CRC' 'DELTA' 'DTAC' 'EA' 'EGCO'\n",
            " 'GLOBAL' 'GPSC' 'GULF' 'HMPRO' 'INTUCH' 'IVL' 'JMART' 'JMT' 'KBANK' 'KTB'\n",
            " 'KTC' 'LH' 'MINT' 'MTC' 'OR' 'OSP' 'PTT' 'PTTEP' 'PTTGC' 'RATCH' 'SCB'\n",
            " 'SCC' 'SCGP' 'TIDLOR' 'TISCO' 'TOP' 'TRUE' 'TTB' 'TU']\n"
          ]
        }
      ]
    },
    {
      "cell_type": "markdown",
      "source": [
        "## Get daily log-return of all stocks in SET50 in 01/01/2022-31/12/2022. Here, we will use adjusted closed prices"
      ],
      "metadata": {
        "id": "bjoUnCdpr6Mo"
      }
    },
    {
      "cell_type": "code",
      "source": [
        "log_ret = dict() # create empty dictionary\n",
        "    # sym = \"ADVANC\" # stock symbol\n",
        "for sym in set50:\n",
        "  df = yf.download(sym + \".BK\", start=\"2022-01-01\", end=\"2022-12-20\") # download 2022 data\n",
        "  close_price = df['Adj Close']\n",
        "  ret = close_price.pct_change(1)\n",
        "  ret = ret.dropna()\n",
        "  log_ret[sym] = np.log(1 + ret)\n",
        "log_ret = pd.DataFrame(data=log_ret, index=ret.index)"
      ],
      "metadata": {
        "id": "Lf2DxTFsr_tS"
      },
      "execution_count": null,
      "outputs": []
    },
    {
      "cell_type": "markdown",
      "source": [
        "# Risk Management "
      ],
      "metadata": {
        "id": "P670XhwlviY4"
      }
    },
    {
      "cell_type": "markdown",
      "source": [
        "Here, we will use the confidence interval of price derived on** Page 54 of Lecture on Statistics of financial time series** to compute 1% maximum drawdown (MDD). Let $\\mathcal{P}_0$ be the value of the portfolio at a time $t=0$. Let $p_{\\alpha}(t)$ be defined as a value such that\n",
        "\n",
        "$Pr\\left[\\mathcal{P}_t \\leq p_{\\alpha}(t) \\right] = \\alpha$\n",
        "\n",
        "The $100\\alpha$ % maximum drawdown is defined as \n",
        "\n",
        "$\\frac{p_{\\alpha}(t) - \\mathcal{P}_0 }{\\mathcal{P}_0$}$\n"
      ],
      "metadata": {
        "id": "0a1nNLw7vnT7"
      }
    },
    {
      "cell_type": "markdown",
      "source": [
        "## 1. Using the log-return, compute $\\mu_r$ and $\\sigma_r$ for all stocks in SET50, and save as \"statisticsLogReturn.xlsx\""
      ],
      "metadata": {
        "id": "fQnnqQI4xkwP"
      }
    },
    {
      "cell_type": "code",
      "source": [
        "# Your code is here. Please also submit 'statisticsLogReturn.xlsx' in the \n",
        "# Google Classroom."
      ],
      "metadata": {
        "id": "fF_RwrGaxye8"
      },
      "execution_count": null,
      "outputs": []
    },
    {
      "cell_type": "markdown",
      "source": [
        "The $100\\alpha$ %  MDD is defind as the ratio of the lower bound $100\\alpha$ % confidence interval and $P_0$ minus 1, i.e.,\n",
        "\n",
        "$MDD = \\frac{P_0 \\exp\\left(\\mu_r T - z\\left(1-\\alpha\\right)\\sigma_r\\right)}{P_0} - 1 = \\exp\\left(\\mu_r T - z\\left(1-\\alpha\\right)\\sigma_r\\right) -1$"
      ],
      "metadata": {
        "id": "mwvWFPFNybUL"
      }
    },
    {
      "cell_type": "markdown",
      "source": [
        "## 2. Compute the 1% MDD of all SET50 stocks, and report the **highest** (most negative) and **lowest** MDD (less negative) for 100 days holding of all SET50 stocks.\n",
        "Note that $Z(1-\\alpha)$ can be computed from norm.ppf(1-$\\alpha$)."
      ],
      "metadata": {
        "id": "Rh_Sm810zPLx"
      }
    },
    {
      "cell_type": "code",
      "source": [
        "# Your code is here"
      ],
      "metadata": {
        "id": "P7PAg3fRybAT"
      },
      "execution_count": null,
      "outputs": []
    },
    {
      "cell_type": "markdown",
      "source": [
        "- Highest MDD ____ % with Stock Symbol:____ \n",
        "- Lowest MDD _____ % with Stock Symbol:_____"
      ],
      "metadata": {
        "id": "WRUZCBnX06U1"
      }
    },
    {
      "cell_type": "markdown",
      "source": [
        "# 3. Construct a portfolio containing equal amoung of BGRIM and PTTEP. For simplicity, let us put 500k on each BGRIM and PTTEP on 04/01/222 (First trading day in 2022). Plot the gain of the port in 2022."
      ],
      "metadata": {
        "id": "LKn5e0vk17of"
      }
    },
    {
      "cell_type": "code",
      "source": [
        "# Your code is here"
      ],
      "metadata": {
        "id": "Qa5eK-Z42RzD"
      },
      "execution_count": null,
      "outputs": []
    },
    {
      "cell_type": "markdown",
      "source": [
        "## 4. Compute the 1% MDD of the above portfolio."
      ],
      "metadata": {
        "id": "pWU5gcfr4YFQ"
      }
    },
    {
      "cell_type": "code",
      "source": [
        "# Your code is here"
      ],
      "metadata": {
        "id": "l9AG2Akm4nau"
      },
      "execution_count": null,
      "outputs": []
    },
    {
      "cell_type": "markdown",
      "source": [
        "My Port MDD: _______ , PTTEP MDD:______, BGRIM MDD: ______."
      ],
      "metadata": {
        "id": "Hs8tnrn55hji"
      }
    },
    {
      "cell_type": "markdown",
      "source": [
        "## 5. Why do my port MDD is significant smaller (less negative) both PTTEP and BGRIM? \n",
        "\n",
        "Answer______________."
      ],
      "metadata": {
        "id": "kTOXBTuN5of3"
      }
    },
    {
      "cell_type": "markdown",
      "source": [
        "## Compute lag 1 auto-correlation value $\\rho(1)$, and sort from the largest to smallest "
      ],
      "metadata": {
        "id": "ssZ9SFJbtSZ7"
      }
    },
    {
      "cell_type": "code",
      "source": [
        "rho1 = dict()\n",
        "for sym in set50:\n",
        "  rho1[sym] = log_ret[sym].autocorr(lag=1)\n",
        "rho1_sorted = {sym: rho for sym, rho in sorted(rho1.items(), key = lambda item: item[1], reverse=True)}\n",
        "print(rho1_sorted)"
      ],
      "metadata": {
        "colab": {
          "base_uri": "https://localhost:8080/"
        },
        "id": "es8yKm2ysKc4",
        "outputId": "41e745ab-f651-4c8f-acb4-789bc90006af"
      },
      "execution_count": null,
      "outputs": [
        {
          "output_type": "stream",
          "name": "stdout",
          "text": [
            "{'TOP': 0.20421272447087194, 'PTTGC': 0.16305775651044388, 'SCGP': 0.12850798068707447, 'GPSC': 0.10396142027513, 'KTC': 0.0883397460642183, 'CBG': 0.08472937441758276, 'IVL': 0.08210260644233994, 'MTC': 0.07428149945694223, 'EA': 0.06940781350852254, 'KBANK': 0.06916270006267845, 'GLOBAL': 0.06560646886271346, 'MINT': 0.05906698216765239, 'SCC': 0.05708878019644391, 'BGRIM': 0.05480247536374645, 'CPN': 0.03772108749639876, 'TTB': 0.03170370908506556, 'BANPU': 0.022027441756688266, 'TU': 0.021342856190818837, 'DELTA': 0.01352083497325038, 'PTTEP': 0.009655056394238424, 'JMT': 0.0003162219617524387, 'PTT': -0.00603783122964074, 'LH': -0.014790285007015737, 'CPF': -0.01793321253292274, 'SCB': -0.020531336340439386, 'TIDLOR': -0.02877854160278522, 'BBL': -0.03402844105943915, 'ADVANC': -0.03642370513998352, 'CPALL': -0.037924622881008056, 'BTS': -0.03930534178059624, 'HMPRO': -0.04449507473185824, 'JMART': -0.045474251235595065, 'INTUCH': -0.04947037493175869, 'OSP': -0.05011734303206711, 'BDMS': -0.056709982374606206, 'RATCH': -0.060853966092169504, 'COM7': -0.06204565909099368, 'BEM': -0.07170724610108559, 'OR': -0.08441416855485055, 'EGCO': -0.10091560910696726, 'CRC': -0.10970373020322725, 'CENTEL': -0.11742899034032286, 'TISCO': -0.11962544461594461, 'KTB': -0.12085437091322104, 'BH': -0.14119832797240578, 'GULF': -0.14873637651333, 'AOT': -0.16455684032107293, 'DTAC': -0.1769890539912564, 'TRUE': -0.1781243907182389, 'AWC': -0.19490803881166674}\n"
          ]
        }
      ]
    },
    {
      "cell_type": "markdown",
      "source": [
        "## 6. What are:\n",
        "- Highest $\\rho(1)$: _____ and \n",
        "- lowest $\\rho(1)$:_________ ?"
      ],
      "metadata": {
        "id": "o4Y8-ozF6Quo"
      }
    },
    {
      "cell_type": "markdown",
      "source": [
        "## 7. Using the stock with highest $\\rho(1)$ to construct the minimum mean square error forcast using three hitorical vales to forecast future. An example is on 58 of the Lecture 05.\n",
        "Please note that\n",
        "\n",
        "$X_t = r_t - \\mu_r$ "
      ],
      "metadata": {
        "id": "7-Vsi-OxDq37"
      }
    },
    {
      "cell_type": "code",
      "source": [
        "# Your code is here"
      ],
      "metadata": {
        "colab": {
          "base_uri": "https://localhost:8080/"
        },
        "id": "O-wJ0g9iDbpc",
        "outputId": "33fa37f2-2d9e-4cc8-e991-51e93ef83ac3"
      },
      "execution_count": null,
      "outputs": [
        {
          "output_type": "stream",
          "name": "stdout",
          "text": [
            "[ 0.29905908 -0.24787547 -0.04422703]\n"
          ]
        }
      ]
    },
    {
      "cell_type": "markdown",
      "source": [
        "The prediction equation is given as:\n",
        "\n",
        "$\\hat{X}_t = \\_\\_\\_\\_ X_{t} +  \\_\\_\\_\\_ X_{t-1} + \\_\\_\\_\\_ X_{t-2}$\n"
      ],
      "metadata": {
        "id": "Q3e_ekT4FU2q"
      }
    },
    {
      "cell_type": "markdown",
      "source": [
        "## 8. Using this forecast for trading strategy where you will take the all-in position (use all money to buy the stocks) if the forecast predicts $\\hat{r}_{t+1} = \\hat{X}_{t+1} + \\mu_r > 0$, and no position (sell all stocks to keep cash)if the forecast predicts $\\hat{r}_{t+1} = \\hat{X}_{t+1} + \\mu_r \\leq 0$.\n",
        "\n",
        "Let us assume that the initial wealth on 2021-01-04 is at 1,000,000 THB, and we are trading the stock with highest $\\rho(1)$ in Problem 6. \n",
        "\n",
        "Assume that there is no transaction cost and stocks are inifinitely divisible. \n",
        " - What is the final size of the portfolio at the end of 2022? \n",
        " - Gain or loss in percentages of this trading strategy. \n",
        " - Compare to buy-and-hold strategy where, on the first trading date, you take the all-in position and sell the stock at the end of 20222."
      ],
      "metadata": {
        "id": "Dyp5tOHBGOM5"
      }
    },
    {
      "cell_type": "code",
      "source": [
        "# example code to compute buy-and-hold strategy on BH\n",
        "log_top = log_ret['BH']\n",
        "top =  yf.download(\"BH.BK\", start=\"2022-01-01\", end=\"2022-12-20\")['Adj Close'] # load data from yahoo \n",
        "init_wealth = 1_000_000\n",
        "buy_and_hold = []\n",
        "for cnt, date in enumerate(log_top.index):\n",
        "  if cnt == 0:\n",
        "    sb = init_wealth / top[date]\n",
        "  buy_and_hold.append(sb * top[date])\n",
        "  \n",
        "  \n",
        "\n",
        "buy_and_hold = pd.Series(data=buy_and_hold, index=log_top.index)\n",
        "plt.figure(figsize=(15,10))\n",
        "\n",
        "plt.plot(buy_and_hold, label=\"Buy and Hold\")\n",
        "plt.xlabel('Date')\n",
        "plt.legend()\n",
        "plt.grid()\n",
        "gain_bd = buy_and_hold.iloc[-1] / init_wealth - 1 \n",
        "print(f\"With the buy-and-hold strategy, Final Wealth: {buy_and_hold.iloc[-1]:,.2f}, Gain (or Loss): {gain_bd*100:0.2f}%.\")\n",
        "\n"
      ],
      "metadata": {
        "id": "puUegtPXFDq6"
      },
      "execution_count": null,
      "outputs": []
    },
    {
      "cell_type": "markdown",
      "source": [
        "- Size of portfolio at the end of 2022: _____ THB.\n",
        "- Gain or Loss at of the proposed trading strategy is: ______ %.\n",
        "- Size of portfolio of Buy-and-hold strategy at the end of 2022:______ THB\n",
        "- Gain or Loss at of Buy-and-hold strategy at the end of 2022: ______ %."
      ],
      "metadata": {
        "id": "Atif7_Slhcrp"
      }
    }
  ]
}