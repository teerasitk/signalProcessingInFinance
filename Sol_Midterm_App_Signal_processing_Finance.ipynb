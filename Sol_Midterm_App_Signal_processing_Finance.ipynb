{
  "nbformat": 4,
  "nbformat_minor": 0,
  "metadata": {
    "colab": {
      "provenance": [],
      "authorship_tag": "ABX9TyOQskztuEggWBbuyn4/eJ4W",
      "include_colab_link": true
    },
    "kernelspec": {
      "name": "python3",
      "display_name": "Python 3"
    },
    "language_info": {
      "name": "python"
    }
  },
  "cells": [
    {
      "cell_type": "markdown",
      "metadata": {
        "id": "view-in-github",
        "colab_type": "text"
      },
      "source": [
        "<a href=\"https://colab.research.google.com/github/teerasitk/signalProcessingInFinance/blob/main/Sol_Midterm_App_Signal_processing_Finance.ipynb\" target=\"_parent\"><img src=\"https://colab.research.google.com/assets/colab-badge.svg\" alt=\"Open In Colab\"/></a>"
      ]
    },
    {
      "cell_type": "markdown",
      "source": [
        "# 7. Highest dividends over price\n",
        "Find out during the last year (2022) which stock in SET50 has the highest total dividends in the percentages of its last close price in 2022. Report the highest dividends stock and the percentage over the last close price. "
      ],
      "metadata": {
        "id": "WNOnk5qYaXkq"
      }
    },
    {
      "cell_type": "code",
      "execution_count": null,
      "metadata": {
        "id": "7IfmBncIaNmq"
      },
      "outputs": [],
      "source": [
        "# list of SET 50 stocks\n",
        "\n",
        "set50 = ['ADVANC', 'AOT', 'AWC', 'BANPU', 'BBL', 'BDMS', 'BEM', 'BGRIM', 'BH', \n",
        "         'BLA', 'BTS', 'CBG', 'CPALL', 'CPF', 'CPN', 'CRC', 'DTAC', 'EA', \n",
        "         'EGCO', 'GLOBAL', 'GPSC', 'GULF', 'HMPRO', 'INTUCH', 'IRPC', 'IVL', \n",
        "         'JMART', 'JMT', 'KBANK', 'KCE', 'KTB', 'KTC', 'LH', 'MINT', 'MTC', \n",
        "         'OR', 'OSP', 'PTT', 'PTTEP', 'PTTGC', 'SAWAD', 'SCB', 'SCC', 'SCGP',\n",
        "         'TIDLOR', 'TISCO', 'TOP', 'TRUE', 'TTB', 'TU']"
      ]
    },
    {
      "cell_type": "code",
      "source": [
        "# load neccesary libraries\n",
        "!pip install yfinance\n",
        "import yfinance as yf\n",
        "import pandas as pd\n",
        "import numpy as np \n",
        "import requests \n",
        "import matplotlib.pyplot as plt "
      ],
      "metadata": {
        "colab": {
          "base_uri": "https://localhost:8080/"
        },
        "id": "JmzLJGZucHXE",
        "outputId": "7d516df7-0f77-4b52-fd12-42a82da66b4f"
      },
      "execution_count": null,
      "outputs": [
        {
          "output_type": "stream",
          "name": "stdout",
          "text": [
            "Looking in indexes: https://pypi.org/simple, https://us-python.pkg.dev/colab-wheels/public/simple/\n",
            "Collecting yfinance\n",
            "  Downloading yfinance-0.2.4-py2.py3-none-any.whl (51 kB)\n",
            "\u001b[2K     \u001b[90m━━━━━━━━━━━━━━━━━━━━━━━━━━━━━━━━━━━━━━━━\u001b[0m \u001b[32m51.4/51.4 KB\u001b[0m \u001b[31m1.9 MB/s\u001b[0m eta \u001b[36m0:00:00\u001b[0m\n",
            "\u001b[?25hCollecting beautifulsoup4>=4.11.1\n",
            "  Downloading beautifulsoup4-4.11.1-py3-none-any.whl (128 kB)\n",
            "\u001b[2K     \u001b[90m━━━━━━━━━━━━━━━━━━━━━━━━━━━━━━━━━━━━━━━\u001b[0m \u001b[32m128.2/128.2 KB\u001b[0m \u001b[31m5.8 MB/s\u001b[0m eta \u001b[36m0:00:00\u001b[0m\n",
            "\u001b[?25hRequirement already satisfied: appdirs>=1.4.4 in /usr/local/lib/python3.8/dist-packages (from yfinance) (1.4.4)\n",
            "Collecting frozendict>=2.3.4\n",
            "  Downloading frozendict-2.3.4-cp38-cp38-manylinux_2_17_x86_64.manylinux2014_x86_64.whl (110 kB)\n",
            "\u001b[2K     \u001b[90m━━━━━━━━━━━━━━━━━━━━━━━━━━━━━━━━━━━━━━━\u001b[0m \u001b[32m111.0/111.0 KB\u001b[0m \u001b[31m6.6 MB/s\u001b[0m eta \u001b[36m0:00:00\u001b[0m\n",
            "\u001b[?25hCollecting cryptography>=3.3.2\n",
            "  Downloading cryptography-39.0.0-cp36-abi3-manylinux_2_28_x86_64.whl (4.2 MB)\n",
            "\u001b[2K     \u001b[90m━━━━━━━━━━━━━━━━━━━━━━━━━━━━━━━━━━━━━━━━\u001b[0m \u001b[32m4.2/4.2 MB\u001b[0m \u001b[31m31.8 MB/s\u001b[0m eta \u001b[36m0:00:00\u001b[0m\n",
            "\u001b[?25hCollecting html5lib>=1.1\n",
            "  Downloading html5lib-1.1-py2.py3-none-any.whl (112 kB)\n",
            "\u001b[2K     \u001b[90m━━━━━━━━━━━━━━━━━━━━━━━━━━━━━━━━━━━━━━━\u001b[0m \u001b[32m112.2/112.2 KB\u001b[0m \u001b[31m8.7 MB/s\u001b[0m eta \u001b[36m0:00:00\u001b[0m\n",
            "\u001b[?25hRequirement already satisfied: pytz>=2022.5 in /usr/local/lib/python3.8/dist-packages (from yfinance) (2022.7)\n",
            "Requirement already satisfied: pandas>=1.3.0 in /usr/local/lib/python3.8/dist-packages (from yfinance) (1.3.5)\n",
            "Requirement already satisfied: lxml>=4.9.1 in /usr/local/lib/python3.8/dist-packages (from yfinance) (4.9.2)\n",
            "Collecting requests>=2.26\n",
            "  Downloading requests-2.28.2-py3-none-any.whl (62 kB)\n",
            "\u001b[2K     \u001b[90m━━━━━━━━━━━━━━━━━━━━━━━━━━━━━━━━━━━━━━━━\u001b[0m \u001b[32m62.8/62.8 KB\u001b[0m \u001b[31m3.7 MB/s\u001b[0m eta \u001b[36m0:00:00\u001b[0m\n",
            "\u001b[?25hRequirement already satisfied: multitasking>=0.0.7 in /usr/local/lib/python3.8/dist-packages (from yfinance) (0.0.11)\n",
            "Requirement already satisfied: numpy>=1.16.5 in /usr/local/lib/python3.8/dist-packages (from yfinance) (1.21.6)\n",
            "Collecting soupsieve>1.2\n",
            "  Downloading soupsieve-2.3.2.post1-py3-none-any.whl (37 kB)\n",
            "Requirement already satisfied: cffi>=1.12 in /usr/local/lib/python3.8/dist-packages (from cryptography>=3.3.2->yfinance) (1.15.1)\n",
            "Requirement already satisfied: six>=1.9 in /usr/local/lib/python3.8/dist-packages (from html5lib>=1.1->yfinance) (1.15.0)\n",
            "Requirement already satisfied: webencodings in /usr/local/lib/python3.8/dist-packages (from html5lib>=1.1->yfinance) (0.5.1)\n",
            "Requirement already satisfied: python-dateutil>=2.7.3 in /usr/local/lib/python3.8/dist-packages (from pandas>=1.3.0->yfinance) (2.8.2)\n",
            "Requirement already satisfied: idna<4,>=2.5 in /usr/local/lib/python3.8/dist-packages (from requests>=2.26->yfinance) (2.10)\n",
            "Requirement already satisfied: charset-normalizer<4,>=2 in /usr/local/lib/python3.8/dist-packages (from requests>=2.26->yfinance) (2.1.1)\n",
            "Requirement already satisfied: certifi>=2017.4.17 in /usr/local/lib/python3.8/dist-packages (from requests>=2.26->yfinance) (2022.12.7)\n",
            "Requirement already satisfied: urllib3<1.27,>=1.21.1 in /usr/local/lib/python3.8/dist-packages (from requests>=2.26->yfinance) (1.24.3)\n",
            "Requirement already satisfied: pycparser in /usr/local/lib/python3.8/dist-packages (from cffi>=1.12->cryptography>=3.3.2->yfinance) (2.21)\n",
            "Installing collected packages: soupsieve, requests, html5lib, frozendict, cryptography, beautifulsoup4, yfinance\n",
            "  Attempting uninstall: requests\n",
            "    Found existing installation: requests 2.25.1\n",
            "    Uninstalling requests-2.25.1:\n",
            "      Successfully uninstalled requests-2.25.1\n",
            "  Attempting uninstall: html5lib\n",
            "    Found existing installation: html5lib 1.0.1\n",
            "    Uninstalling html5lib-1.0.1:\n",
            "      Successfully uninstalled html5lib-1.0.1\n",
            "  Attempting uninstall: beautifulsoup4\n",
            "    Found existing installation: beautifulsoup4 4.6.3\n",
            "    Uninstalling beautifulsoup4-4.6.3:\n",
            "      Successfully uninstalled beautifulsoup4-4.6.3\n",
            "Successfully installed beautifulsoup4-4.11.1 cryptography-39.0.0 frozendict-2.3.4 html5lib-1.1 requests-2.28.2 soupsieve-2.3.2.post1 yfinance-0.2.4\n"
          ]
        }
      ]
    },
    {
      "cell_type": "code",
      "source": [
        "# Your code is here\n",
        "dividens = dict() # empty dicts of dividends\n",
        "for sym in set50:\n",
        "  ticker = yf.Ticker(sym + \".BK\") # get a ticker\n",
        "  prices = ticker.history(start=\"2022-01-01\", end=\"2022-12-31\") # price in 2022\n",
        "  end_prices = prices.Close.iloc[-1] # last close price\n",
        "  dividens[sym] = ticker.dividends.sum()/end_prices # total divideds over close price\n",
        "sort_dividends = sorted(dividens.items(), key=lambda x:x[1]) # sort from smallest to largest\n",
        "sort_dividends"
      ],
      "metadata": {
        "colab": {
          "base_uri": "https://localhost:8080/"
        },
        "id": "dfVR-VquaiDG",
        "outputId": "f0a84299-5600-4662-84ab-5f77ef09468d"
      },
      "execution_count": null,
      "outputs": [
        {
          "output_type": "execute_result",
          "data": {
            "text/plain": [
              "[('AOT', 0.0),\n",
              " ('MINT', 0.0),\n",
              " ('AWC', 0.001707936456228091),\n",
              " ('EA', 0.003092783505154639),\n",
              " ('CRC', 0.006486486486486486),\n",
              " ('BGRIM', 0.007547169811320756),\n",
              " ('GULF', 0.007963800904977376),\n",
              " ('BEM', 0.008163265147242933),\n",
              " ('CPN', 0.008450704225352112),\n",
              " ('CPALL', 0.008791208791208791),\n",
              " ('TIDLOR', 0.00928813559322034),\n",
              " ('MTC', 0.009736842105263158),\n",
              " ('GLOBAL', 0.011376339479452192),\n",
              " ('SCGP', 0.011403508771929825),\n",
              " ('JMT', 0.013188405797101448),\n",
              " ('SCB', 0.014018691588785047),\n",
              " ('TRUE', 0.014462809461394714),\n",
              " ('BH', 0.015094339622641508),\n",
              " ('GPSC', 0.01643835616438356),\n",
              " ('KTC', 0.01694915254237288),\n",
              " ('BDMS', 0.017241379310344827),\n",
              " ('CBG', 0.01808785529715762),\n",
              " ('KBANK', 0.022033898305084745),\n",
              " ('OR', 0.022689076357579475),\n",
              " ('KTB', 0.023615818191105118),\n",
              " ('HMPRO', 0.023870967741935485),\n",
              " ('CPF', 0.026209678225661195),\n",
              " ('BBL', 0.02702702702702703),\n",
              " ('BLA', 0.030608695652173917),\n",
              " ('IVL', 0.03558282208588957),\n",
              " ('BTS', 0.03690476358072025),\n",
              " ('SAWAD', 0.036923076923076927),\n",
              " ('JMART', 0.03705521472392638),\n",
              " ('EGCO', 0.03768115942028986),\n",
              " ('OSP', 0.03893805309734514),\n",
              " ('ADVANC', 0.03943589743589744),\n",
              " ('DTAC', 0.040641711229946524),\n",
              " ('PTTEP', 0.04107648725212465),\n",
              " ('TTB', 0.04113475274682305),\n",
              " ('KCE', 0.043010752688172046),\n",
              " ('INTUCH', 0.04429531975318241),\n",
              " ('SCC', 0.04678362573099415),\n",
              " ('LH', 0.05050505245112612),\n",
              " ('BANPU', 0.05109489122230489),\n",
              " ('PTTGC', 0.05291005291005291),\n",
              " ('TU', 0.05325443907189091),\n",
              " ('IRPC', 0.05960264938305641),\n",
              " ('PTT', 0.06315789473684211),\n",
              " ('TOP', 0.07094012444444445),\n",
              " ('TISCO', 0.07204030226700252)]"
            ]
          },
          "metadata": {},
          "execution_count": 3
        }
      ]
    },
    {
      "cell_type": "markdown",
      "source": [
        "## Answer\n",
        "Highest Dividends over last Close Price: __**TISCO** at **7.2%**_______________________."
      ],
      "metadata": {
        "id": "9wnokqUJakJ6"
      }
    },
    {
      "cell_type": "markdown",
      "source": [
        "# 8. Clustering and porfolio management\n",
        "A good investor always diversifies his or her portfolio. Assume that you want to invest on five stocks from SET50.\n",
        "\n",
        "1.\tUsing K-Mean algorithm to divide the stock into 5 groups based on their daily log-return in 2022.\n"
      ],
      "metadata": {
        "id": "Hf_lwXnEaqrl"
      }
    },
    {
      "cell_type": "code",
      "source": [
        "# Your code\n",
        "from sklearn.cluster import KMeans\n",
        "kmeans = KMeans(n_clusters=5, random_state=0)\n",
        "log_returns = dict() # empty dict of log return\n",
        "for sym in set50: # for each stocks\n",
        "  df = yf.download(sym + \".BK\", \"2022-06-01\", \"2022-12-31\") # load data \n",
        "  price = df['Adj Close'] # get adjusted close price\n",
        "  log_ret = np.log(price.pct_change(1) + 1).dropna() # log return and drop nan\n",
        "  log_returns[sym] = log_ret # assign to dict\n",
        "log_returns = pd.DataFrame(log_returns, index=log_ret.index) #change to dataframe\n",
        "kmeans.fit(log_returns.values.T) # keams to fit\n",
        "for k in range(5):\n",
        "  idx = np.where(kmeans.labels_ == k)[0] # find stock in the cluster\n",
        "  txt = f\"Cluster {k+ 1} contains\"\n",
        "  for idk in idx:\n",
        "    txt += f\" {log_returns.columns[idk]}, \"\n",
        "  print(txt)"
      ],
      "metadata": {
        "colab": {
          "base_uri": "https://localhost:8080/"
        },
        "id": "KZaeX8Tsap-a",
        "outputId": "7dfe8e06-9795-4526-966c-20141f8e1f0d"
      },
      "execution_count": null,
      "outputs": [
        {
          "output_type": "stream",
          "name": "stdout",
          "text": [
            "[*********************100%***********************]  1 of 1 completed\n",
            "[*********************100%***********************]  1 of 1 completed\n",
            "[*********************100%***********************]  1 of 1 completed\n",
            "[*********************100%***********************]  1 of 1 completed\n",
            "[*********************100%***********************]  1 of 1 completed\n",
            "[*********************100%***********************]  1 of 1 completed\n",
            "[*********************100%***********************]  1 of 1 completed\n",
            "[*********************100%***********************]  1 of 1 completed\n",
            "[*********************100%***********************]  1 of 1 completed\n",
            "[*********************100%***********************]  1 of 1 completed\n",
            "[*********************100%***********************]  1 of 1 completed\n",
            "[*********************100%***********************]  1 of 1 completed\n",
            "[*********************100%***********************]  1 of 1 completed\n",
            "[*********************100%***********************]  1 of 1 completed\n",
            "[*********************100%***********************]  1 of 1 completed\n",
            "[*********************100%***********************]  1 of 1 completed\n",
            "[*********************100%***********************]  1 of 1 completed\n",
            "[*********************100%***********************]  1 of 1 completed\n",
            "[*********************100%***********************]  1 of 1 completed\n",
            "[*********************100%***********************]  1 of 1 completed\n",
            "[*********************100%***********************]  1 of 1 completed\n",
            "[*********************100%***********************]  1 of 1 completed\n",
            "[*********************100%***********************]  1 of 1 completed\n",
            "[*********************100%***********************]  1 of 1 completed\n",
            "[*********************100%***********************]  1 of 1 completed\n",
            "[*********************100%***********************]  1 of 1 completed\n",
            "[*********************100%***********************]  1 of 1 completed\n",
            "[*********************100%***********************]  1 of 1 completed\n",
            "[*********************100%***********************]  1 of 1 completed\n",
            "[*********************100%***********************]  1 of 1 completed\n",
            "[*********************100%***********************]  1 of 1 completed\n",
            "[*********************100%***********************]  1 of 1 completed\n",
            "[*********************100%***********************]  1 of 1 completed\n",
            "[*********************100%***********************]  1 of 1 completed\n",
            "[*********************100%***********************]  1 of 1 completed\n",
            "[*********************100%***********************]  1 of 1 completed\n",
            "[*********************100%***********************]  1 of 1 completed\n",
            "[*********************100%***********************]  1 of 1 completed\n",
            "[*********************100%***********************]  1 of 1 completed\n",
            "[*********************100%***********************]  1 of 1 completed\n",
            "[*********************100%***********************]  1 of 1 completed\n",
            "[*********************100%***********************]  1 of 1 completed\n",
            "[*********************100%***********************]  1 of 1 completed\n",
            "[*********************100%***********************]  1 of 1 completed\n",
            "[*********************100%***********************]  1 of 1 completed\n",
            "[*********************100%***********************]  1 of 1 completed\n",
            "[*********************100%***********************]  1 of 1 completed\n",
            "[*********************100%***********************]  1 of 1 completed\n",
            "[*********************100%***********************]  1 of 1 completed\n",
            "[*********************100%***********************]  1 of 1 completed\n",
            "Cluster 1 contains EA,  GULF,  JMART,  JMT, \n",
            "Cluster 2 contains BBL,  BLA,  KBANK,  KTB,  SCB,  TISCO,  TTB,  TU, \n",
            "Cluster 3 contains ADVANC,  AOT,  AWC,  BDMS,  BEM,  BGRIM,  BH,  BTS,  CBG,  CPALL,  CPF,  CPN,  CRC,  DTAC,  EGCO,  GLOBAL,  GPSC,  HMPRO,  INTUCH,  KTC,  LH,  MINT,  OR,  OSP,  SCC,  SCGP,  TRUE, \n",
            "Cluster 4 contains KCE,  MTC,  SAWAD,  TIDLOR, \n",
            "Cluster 5 contains BANPU,  IRPC,  IVL,  PTT,  PTTEP,  PTTGC,  TOP, \n"
          ]
        }
      ]
    },
    {
      "cell_type": "markdown",
      "source": [
        "## Answer\n",
        "1. Group 1: __EA,  GULF,  JMART,  JMT _\n",
        "2. Group 2: BBL,  BLA,  KBANK,  KTB,  SCB,  TISCO,  TTB,  TU\n",
        "3. Group 3: _ADVANC,  AOT,  AWC,  BDMS,  BEM,  BGRIM,  BH,  BTS,  CBG,  CPALL,  CPF,  CPN,  CRC,  DTAC,  EGCO,  GLOBAL,  GPSC,  HMPRO,  INTUCH,  KTC,  LH,  MINT,  OR,  OSP,  SCC,  SCGP,  TRUE_\n",
        "4. Group 4: __KCE,  MTC,  SAWAD,  TIDLOR\n",
        "5. Group 5: ____BANPU,  IRPC,  IVL,  PTT,  PTTEP,  PTTGC,  TOP__"
      ],
      "metadata": {
        "id": "dWJa59SvbxEk"
      }
    },
    {
      "cell_type": "markdown",
      "source": [
        "2.\tYou will pick one stock from each group for investment. Which stocks will pick? Justify your choice.\n"
      ],
      "metadata": {
        "id": "fLwii9chf_rh"
      }
    },
    {
      "cell_type": "markdown",
      "source": [
        "### My criteria to pick stocks that have highest return over the risk (STD) in the group"
      ],
      "metadata": {
        "id": "LExCaLKriZlk"
      }
    },
    {
      "cell_type": "code",
      "source": [
        "# code is here\n",
        "for k in range(5):\n",
        "  idx = np.where(kmeans.labels_ == k)[0] \n",
        "  group_sym = [set50[k] for k in idx]\n",
        "  mean_return = log_returns[group_sym].mean() # find average return\n",
        "  std_return = log_returns[group_sym].std() # find average std\n",
        "  ratio = mean_return / std_return \n",
        "  print(ratio[ratio==ratio.max()]) # find the maximum one"
      ],
      "metadata": {
        "colab": {
          "base_uri": "https://localhost:8080/"
        },
        "id": "F9P8_hkyf1gb",
        "outputId": "f27e22fa-91af-4985-efc3-773ee4c37a02"
      },
      "execution_count": null,
      "outputs": [
        {
          "output_type": "stream",
          "name": "stdout",
          "text": [
            "GULF    0.059259\n",
            "dtype: float64\n",
            "KTB    0.099904\n",
            "dtype: float64\n",
            "CRC    0.105072\n",
            "dtype: float64\n",
            "SAWAD   -0.04469\n",
            "dtype: float64\n",
            "BANPU    0.05562\n",
            "dtype: float64\n"
          ]
        }
      ]
    },
    {
      "cell_type": "markdown",
      "source": [
        "## Answer\n",
        "Stock Pick from Group 1:_GULF__________, Group 2:_KTB_____, Group 3:__CRC__________, Group 4:_SAWAD_____ and Group 5:_BANPU_______________"
      ],
      "metadata": {
        "id": "6lTKzQ8rfjoE"
      }
    }
  ]
}