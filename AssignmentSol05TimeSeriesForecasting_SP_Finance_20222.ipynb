{
  "nbformat": 4,
  "nbformat_minor": 0,
  "metadata": {
    "colab": {
      "provenance": [],
      "authorship_tag": "ABX9TyNRDHmvYxRpzUGu2sr2+zIU",
      "include_colab_link": true
    },
    "kernelspec": {
      "name": "python3",
      "display_name": "Python 3"
    },
    "language_info": {
      "name": "python"
    }
  },
  "cells": [
    {
      "cell_type": "markdown",
      "metadata": {
        "id": "view-in-github",
        "colab_type": "text"
      },
      "source": [
        "<a href=\"https://colab.research.google.com/github/teerasitk/signalProcessingInFinance/blob/main/AssignmentSol05TimeSeriesForecasting_SP_Finance_20222.ipynb\" target=\"_parent\"><img src=\"https://colab.research.google.com/assets/colab-badge.svg\" alt=\"Open In Colab\"/></a>"
      ]
    },
    {
      "cell_type": "markdown",
      "source": [
        "# Time-Series statistics for Financial Time-Series Analysis\n",
        "The goal of this assignment is to enable students to under the importance of statistics in the financial time analysis and forecast. "
      ],
      "metadata": {
        "id": "aNTeAqrDobMe"
      }
    },
    {
      "cell_type": "markdown",
      "source": [
        "## Prepare libraries"
      ],
      "metadata": {
        "id": "3ZcCYr1LowCD"
      }
    },
    {
      "cell_type": "code",
      "execution_count": null,
      "metadata": {
        "colab": {
          "base_uri": "https://localhost:8080/",
          "height": 971
        },
        "id": "IvWw1ACSoUQU",
        "outputId": "227d2f16-e4cd-4d46-f08a-757dafe2968b"
      },
      "outputs": [
        {
          "output_type": "stream",
          "name": "stdout",
          "text": [
            "Looking in indexes: https://pypi.org/simple, https://us-python.pkg.dev/colab-wheels/public/simple/\n",
            "Collecting yfinance\n",
            "  Downloading yfinance-0.2.3-py2.py3-none-any.whl (50 kB)\n",
            "\u001b[K     |████████████████████████████████| 50 kB 3.1 MB/s \n",
            "\u001b[?25hCollecting frozendict>=2.3.4\n",
            "  Downloading frozendict-2.3.4-cp38-cp38-manylinux_2_17_x86_64.manylinux2014_x86_64.whl (110 kB)\n",
            "\u001b[K     |████████████████████████████████| 110 kB 10.6 MB/s \n",
            "\u001b[?25hRequirement already satisfied: numpy>=1.16.5 in /usr/local/lib/python3.8/dist-packages (from yfinance) (1.21.6)\n",
            "Requirement already satisfied: lxml>=4.9.1 in /usr/local/lib/python3.8/dist-packages (from yfinance) (4.9.2)\n",
            "Requirement already satisfied: multitasking>=0.0.7 in /usr/local/lib/python3.8/dist-packages (from yfinance) (0.0.11)\n",
            "Requirement already satisfied: appdirs>=1.4.4 in /usr/local/lib/python3.8/dist-packages (from yfinance) (1.4.4)\n",
            "Collecting requests>=2.26\n",
            "  Downloading requests-2.28.1-py3-none-any.whl (62 kB)\n",
            "\u001b[K     |████████████████████████████████| 62 kB 1.3 MB/s \n",
            "\u001b[?25hRequirement already satisfied: pytz>=2022.5 in /usr/local/lib/python3.8/dist-packages (from yfinance) (2022.6)\n",
            "Collecting html5lib>=1.1\n",
            "  Downloading html5lib-1.1-py2.py3-none-any.whl (112 kB)\n",
            "\u001b[K     |████████████████████████████████| 112 kB 54.7 MB/s \n",
            "\u001b[?25hCollecting beautifulsoup4>=4.11.1\n",
            "  Downloading beautifulsoup4-4.11.1-py3-none-any.whl (128 kB)\n",
            "\u001b[K     |████████████████████████████████| 128 kB 61.3 MB/s \n",
            "\u001b[?25hCollecting cryptography>=3.3.2\n",
            "  Downloading cryptography-39.0.0-cp36-abi3-manylinux_2_24_x86_64.whl (4.1 MB)\n",
            "\u001b[K     |████████████████████████████████| 4.1 MB 56.4 MB/s \n",
            "\u001b[?25hRequirement already satisfied: pandas>=1.3.0 in /usr/local/lib/python3.8/dist-packages (from yfinance) (1.3.5)\n",
            "Collecting soupsieve>1.2\n",
            "  Downloading soupsieve-2.3.2.post1-py3-none-any.whl (37 kB)\n",
            "Requirement already satisfied: cffi>=1.12 in /usr/local/lib/python3.8/dist-packages (from cryptography>=3.3.2->yfinance) (1.15.1)\n",
            "Requirement already satisfied: pycparser in /usr/local/lib/python3.8/dist-packages (from cffi>=1.12->cryptography>=3.3.2->yfinance) (2.21)\n",
            "Requirement already satisfied: webencodings in /usr/local/lib/python3.8/dist-packages (from html5lib>=1.1->yfinance) (0.5.1)\n",
            "Requirement already satisfied: six>=1.9 in /usr/local/lib/python3.8/dist-packages (from html5lib>=1.1->yfinance) (1.15.0)\n",
            "Requirement already satisfied: python-dateutil>=2.7.3 in /usr/local/lib/python3.8/dist-packages (from pandas>=1.3.0->yfinance) (2.8.2)\n",
            "Requirement already satisfied: charset-normalizer<3,>=2 in /usr/local/lib/python3.8/dist-packages (from requests>=2.26->yfinance) (2.1.1)\n",
            "Requirement already satisfied: idna<4,>=2.5 in /usr/local/lib/python3.8/dist-packages (from requests>=2.26->yfinance) (2.10)\n",
            "Requirement already satisfied: urllib3<1.27,>=1.21.1 in /usr/local/lib/python3.8/dist-packages (from requests>=2.26->yfinance) (1.24.3)\n",
            "Requirement already satisfied: certifi>=2017.4.17 in /usr/local/lib/python3.8/dist-packages (from requests>=2.26->yfinance) (2022.12.7)\n",
            "Installing collected packages: soupsieve, requests, html5lib, frozendict, cryptography, beautifulsoup4, yfinance\n",
            "  Attempting uninstall: requests\n",
            "    Found existing installation: requests 2.23.0\n",
            "    Uninstalling requests-2.23.0:\n",
            "      Successfully uninstalled requests-2.23.0\n",
            "  Attempting uninstall: html5lib\n",
            "    Found existing installation: html5lib 1.0.1\n",
            "    Uninstalling html5lib-1.0.1:\n",
            "      Successfully uninstalled html5lib-1.0.1\n",
            "  Attempting uninstall: beautifulsoup4\n",
            "    Found existing installation: beautifulsoup4 4.6.3\n",
            "    Uninstalling beautifulsoup4-4.6.3:\n",
            "      Successfully uninstalled beautifulsoup4-4.6.3\n",
            "Successfully installed beautifulsoup4-4.11.1 cryptography-39.0.0 frozendict-2.3.4 html5lib-1.1 requests-2.28.1 soupsieve-2.3.2.post1 yfinance-0.2.3\n"
          ]
        },
        {
          "output_type": "display_data",
          "data": {
            "application/vnd.colab-display-data+json": {
              "pip_warning": {
                "packages": [
                  "requests"
                ]
              }
            }
          },
          "metadata": {}
        }
      ],
      "source": [
        "!pip install yfinance\n",
        "import yfinance as yf\n",
        "import pandas as pd\n",
        "import numpy as np \n",
        "import datetime as dt\n",
        "import matplotlib.pyplot as plt\n",
        "from scipy.stats import norm, t\n",
        "import requests "
      ]
    },
    {
      "cell_type": "markdown",
      "source": [
        "## Get all set50 symbols"
      ],
      "metadata": {
        "id": "Py_5ZtzepkFE"
      }
    },
    {
      "cell_type": "code",
      "source": [
        "url = 'https://classic.set.or.th/mkt/sectorquotation.do?sector=SET50&language=en&country=US'\n",
        "html = requests.get(url).content\n",
        "df_list = pd.read_html(html)\n",
        "df = df_list[-1]\n",
        "set50_lis = df['Symbol']\n",
        "set50 = np.array(set50_lis)\n",
        "print(set50)"
      ],
      "metadata": {
        "colab": {
          "base_uri": "https://localhost:8080/"
        },
        "id": "4Gi8xD72pjok",
        "outputId": "0439d88f-0a14-496e-c1c0-a5b8aef29dd0"
      },
      "execution_count": null,
      "outputs": [
        {
          "output_type": "stream",
          "name": "stdout",
          "text": [
            "['ADVANC' 'AOT' 'AWC' 'BANPU' 'BBL' 'BDMS' 'BEM' 'BGRIM' 'BH' 'BTS' 'CBG'\n",
            " 'CENTEL' 'COM7' 'CPALL' 'CPF' 'CPN' 'CRC' 'DELTA' 'DTAC' 'EA' 'EGCO'\n",
            " 'GLOBAL' 'GPSC' 'GULF' 'HMPRO' 'INTUCH' 'IVL' 'JMART' 'JMT' 'KBANK' 'KTB'\n",
            " 'KTC' 'LH' 'MINT' 'MTC' 'OR' 'OSP' 'PTT' 'PTTEP' 'PTTGC' 'RATCH' 'SCB'\n",
            " 'SCC' 'SCGP' 'TIDLOR' 'TISCO' 'TOP' 'TRUE' 'TTB' 'TU']\n"
          ]
        }
      ]
    },
    {
      "cell_type": "markdown",
      "source": [
        "## Get Daily simple returns of all stocks in SET50 in 01/01/2022-31/12/2022. Here, we will use adjusted closed prices"
      ],
      "metadata": {
        "id": "-WWbqJDeqhqR"
      }
    },
    {
      "cell_type": "code",
      "source": [
        "simple_ret = dict() # create empty dictionary\n",
        "    # sym = \"ADVANC\" # stock symbol\n",
        "for sym in set50:\n",
        "  df = yf.download(sym + \".BK\", start=\"2022-01-01\", end=\"2022-12-20\") # download 2022 data\n",
        "  close_price = df['Adj Close']\n",
        "  ret = close_price.pct_change(1)\n",
        "  ret = ret.dropna()\n",
        "  simple_ret[sym] = ret\n",
        "simple_ret = pd.DataFrame(data=simple_ret, index=ret.index)"
      ],
      "metadata": {
        "colab": {
          "base_uri": "https://localhost:8080/"
        },
        "id": "bJqFxUMUqfTq",
        "outputId": "8f34f6d3-d8d9-4d30-a5f6-b9a11081c76b"
      },
      "execution_count": null,
      "outputs": [
        {
          "output_type": "stream",
          "name": "stdout",
          "text": [
            "[*********************100%***********************]  1 of 1 completed\n",
            "[*********************100%***********************]  1 of 1 completed\n",
            "[*********************100%***********************]  1 of 1 completed\n",
            "[*********************100%***********************]  1 of 1 completed\n",
            "[*********************100%***********************]  1 of 1 completed\n",
            "[*********************100%***********************]  1 of 1 completed\n",
            "[*********************100%***********************]  1 of 1 completed\n",
            "[*********************100%***********************]  1 of 1 completed\n",
            "[*********************100%***********************]  1 of 1 completed\n",
            "[*********************100%***********************]  1 of 1 completed\n",
            "[*********************100%***********************]  1 of 1 completed\n",
            "[*********************100%***********************]  1 of 1 completed\n",
            "[*********************100%***********************]  1 of 1 completed\n",
            "[*********************100%***********************]  1 of 1 completed\n",
            "[*********************100%***********************]  1 of 1 completed\n",
            "[*********************100%***********************]  1 of 1 completed\n",
            "[*********************100%***********************]  1 of 1 completed\n",
            "[*********************100%***********************]  1 of 1 completed\n",
            "[*********************100%***********************]  1 of 1 completed\n",
            "[*********************100%***********************]  1 of 1 completed\n",
            "[*********************100%***********************]  1 of 1 completed\n",
            "[*********************100%***********************]  1 of 1 completed\n",
            "[*********************100%***********************]  1 of 1 completed\n",
            "[*********************100%***********************]  1 of 1 completed\n",
            "[*********************100%***********************]  1 of 1 completed\n",
            "[*********************100%***********************]  1 of 1 completed\n",
            "[*********************100%***********************]  1 of 1 completed\n",
            "[*********************100%***********************]  1 of 1 completed\n",
            "[*********************100%***********************]  1 of 1 completed\n",
            "[*********************100%***********************]  1 of 1 completed\n",
            "[*********************100%***********************]  1 of 1 completed\n",
            "[*********************100%***********************]  1 of 1 completed\n",
            "[*********************100%***********************]  1 of 1 completed\n",
            "[*********************100%***********************]  1 of 1 completed\n",
            "[*********************100%***********************]  1 of 1 completed\n",
            "[*********************100%***********************]  1 of 1 completed\n",
            "[*********************100%***********************]  1 of 1 completed\n",
            "[*********************100%***********************]  1 of 1 completed\n",
            "[*********************100%***********************]  1 of 1 completed\n",
            "[*********************100%***********************]  1 of 1 completed\n",
            "[*********************100%***********************]  1 of 1 completed\n",
            "[*********************100%***********************]  1 of 1 completed\n",
            "[*********************100%***********************]  1 of 1 completed\n",
            "[*********************100%***********************]  1 of 1 completed\n",
            "[*********************100%***********************]  1 of 1 completed\n",
            "[*********************100%***********************]  1 of 1 completed\n",
            "[*********************100%***********************]  1 of 1 completed\n",
            "[*********************100%***********************]  1 of 1 completed\n",
            "[*********************100%***********************]  1 of 1 completed\n",
            "[*********************100%***********************]  1 of 1 completed\n"
          ]
        }
      ]
    },
    {
      "cell_type": "markdown",
      "source": [
        "## Get daily log-return of all stocks in SET50 in 01/01/2022-31/12/2022. Here, we will use adjusted closed prices"
      ],
      "metadata": {
        "id": "bjoUnCdpr6Mo"
      }
    },
    {
      "cell_type": "code",
      "source": [
        "log_ret = dict() # create empty dictionary\n",
        "    # sym = \"ADVANC\" # stock symbol\n",
        "for sym in set50:\n",
        "  df = yf.download(sym + \".BK\", start=\"2022-01-01\", end=\"2022-12-20\") # download 2022 data\n",
        "  close_price = df['Adj Close']\n",
        "  ret = close_price.pct_change(1)\n",
        "  ret = ret.dropna()\n",
        "  log_ret[sym] = np.log(1 + ret)\n",
        "log_ret = pd.DataFrame(data=log_ret, index=ret.index)"
      ],
      "metadata": {
        "colab": {
          "base_uri": "https://localhost:8080/"
        },
        "id": "Lf2DxTFsr_tS",
        "outputId": "6e0c0056-b7c7-4ab4-c8cf-779f80758dd1"
      },
      "execution_count": null,
      "outputs": [
        {
          "output_type": "stream",
          "name": "stdout",
          "text": [
            "[*********************100%***********************]  1 of 1 completed\n",
            "[*********************100%***********************]  1 of 1 completed\n",
            "[*********************100%***********************]  1 of 1 completed\n",
            "[*********************100%***********************]  1 of 1 completed\n",
            "[*********************100%***********************]  1 of 1 completed\n",
            "[*********************100%***********************]  1 of 1 completed\n",
            "[*********************100%***********************]  1 of 1 completed\n",
            "[*********************100%***********************]  1 of 1 completed\n",
            "[*********************100%***********************]  1 of 1 completed\n",
            "[*********************100%***********************]  1 of 1 completed\n",
            "[*********************100%***********************]  1 of 1 completed\n",
            "[*********************100%***********************]  1 of 1 completed\n",
            "[*********************100%***********************]  1 of 1 completed\n",
            "[*********************100%***********************]  1 of 1 completed\n",
            "[*********************100%***********************]  1 of 1 completed\n",
            "[*********************100%***********************]  1 of 1 completed\n",
            "[*********************100%***********************]  1 of 1 completed\n",
            "[*********************100%***********************]  1 of 1 completed\n",
            "[*********************100%***********************]  1 of 1 completed\n",
            "[*********************100%***********************]  1 of 1 completed\n",
            "[*********************100%***********************]  1 of 1 completed\n",
            "[*********************100%***********************]  1 of 1 completed\n",
            "[*********************100%***********************]  1 of 1 completed\n",
            "[*********************100%***********************]  1 of 1 completed\n",
            "[*********************100%***********************]  1 of 1 completed\n",
            "[*********************100%***********************]  1 of 1 completed\n",
            "[*********************100%***********************]  1 of 1 completed\n",
            "[*********************100%***********************]  1 of 1 completed\n",
            "[*********************100%***********************]  1 of 1 completed\n",
            "[*********************100%***********************]  1 of 1 completed\n",
            "[*********************100%***********************]  1 of 1 completed\n",
            "[*********************100%***********************]  1 of 1 completed\n",
            "[*********************100%***********************]  1 of 1 completed\n",
            "[*********************100%***********************]  1 of 1 completed\n",
            "[*********************100%***********************]  1 of 1 completed\n",
            "[*********************100%***********************]  1 of 1 completed\n",
            "[*********************100%***********************]  1 of 1 completed\n",
            "[*********************100%***********************]  1 of 1 completed\n",
            "[*********************100%***********************]  1 of 1 completed\n",
            "[*********************100%***********************]  1 of 1 completed\n",
            "[*********************100%***********************]  1 of 1 completed\n",
            "[*********************100%***********************]  1 of 1 completed\n",
            "[*********************100%***********************]  1 of 1 completed\n",
            "[*********************100%***********************]  1 of 1 completed\n",
            "[*********************100%***********************]  1 of 1 completed\n",
            "[*********************100%***********************]  1 of 1 completed\n",
            "[*********************100%***********************]  1 of 1 completed\n",
            "[*********************100%***********************]  1 of 1 completed\n",
            "[*********************100%***********************]  1 of 1 completed\n",
            "[*********************100%***********************]  1 of 1 completed\n"
          ]
        }
      ]
    },
    {
      "cell_type": "markdown",
      "source": [
        "# Risk Management "
      ],
      "metadata": {
        "id": "P670XhwlviY4"
      }
    },
    {
      "cell_type": "markdown",
      "source": [
        "Here, we will use the confidence interval of price derived on** Page 54 of Lecture on Statistics of financial time series** to compute 1% maximum drawdown (MDD). Let $\\mathcal{P}_0$ be the value of the portfolio at a time $t=0$. Let $p_{\\alpha}(t)$ be defined as a value such that\n",
        "\n",
        "$Pr\\left[\\mathcal{P}_t \\leq p_{\\alpha}(t) \\right] = \\alpha$\n",
        "\n",
        "The $100\\alpha$ % maximum drawdown is defined as \n",
        "\n",
        "$\\frac{p_{\\alpha}(t) - \\mathcal{P}_0 }{\\mathcal{P}_0$}$\n"
      ],
      "metadata": {
        "id": "0a1nNLw7vnT7"
      }
    },
    {
      "cell_type": "markdown",
      "source": [
        "## 1. Using the log-return, compute $\\mu_r$ and $\\sigma_r$ for all stocks in SET50, and save as \"statisticsLogReturn.xlsx\""
      ],
      "metadata": {
        "id": "fQnnqQI4xkwP"
      }
    },
    {
      "cell_type": "code",
      "source": [
        "mu_r = dict()\n",
        "sigma_r = dict()\n",
        "for sym in set50:\n",
        "  mu = log_ret[sym].mean()\n",
        "  sig = log_ret[sym].std(ddof=1)\n",
        "  mu_r[sym] = mu \n",
        "  sigma_r[sym] = sig\n"
      ],
      "metadata": {
        "id": "fF_RwrGaxye8"
      },
      "execution_count": null,
      "outputs": []
    },
    {
      "cell_type": "markdown",
      "source": [
        "The $100\\alpha$ %  MDD is defind as the ratio of the lower bound $100\\alpha$ % confidence interval and $P_0$ minus 1, i.e.,\n",
        "\n",
        "$MDD = \\frac{P_0 \\exp\\left(\\mu_r T - z\\left(1-\\alpha\\right)\\sigma_r\\right)}{P_0} - 1 = \\exp\\left(\\mu_r T - z\\left(1-\\alpha\\right)\\sigma_r\\right) -1$"
      ],
      "metadata": {
        "id": "mwvWFPFNybUL"
      }
    },
    {
      "cell_type": "markdown",
      "source": [
        "## 2. Compute the 1% MDD of all SET50 stocks, and report the highest (most negative) and lowest MDD (less negative) for 100 days holding of all SET50 stocks "
      ],
      "metadata": {
        "id": "Rh_Sm810zPLx"
      }
    },
    {
      "cell_type": "code",
      "source": [
        "T = 100\n",
        "MDDs = dict()\n",
        "z = norm.ppf(1-0.01)\n",
        "for sym in set50:\n",
        "  mdd = np.exp(mu_r[sym] * T - z * sigma_r[sym] * np.sqrt(T)) - 1 \n",
        "  MDDs[sym] = mdd   \n",
        "print(MDDs)\n",
        "sorted_mdds = {sym: rho for sym, rho in sorted(MDDs.items(), key = lambda item: item[1])}\n",
        "print(sorted_mdds)"
      ],
      "metadata": {
        "colab": {
          "base_uri": "https://localhost:8080/"
        },
        "id": "P7PAg3fRybAT",
        "outputId": "63ff4e3d-db1c-4e5a-f7f9-a919863ce814"
      },
      "execution_count": null,
      "outputs": [
        {
          "output_type": "stream",
          "name": "stdout",
          "text": [
            "{'ADVANC': -0.29704192660196793, 'AOT': -0.12939847761040058, 'AWC': -0.21816256089092334, 'BANPU': -0.2645463675815891, 'BBL': -0.174888826658539, 'BDMS': -0.2089919382507196, 'BEM': -0.19792171637995026, 'BGRIM': -0.3578369726560865, 'BH': -0.19142116985415225, 'BTS': -0.2723499651993986, 'CBG': -0.3623359785660073, 'CENTEL': -0.2389488722037142, 'COM7': -0.4449800419996012, 'CPALL': -0.2166736224612602, 'CPF': -0.26798025794113167, 'CPN': -0.21985010780354997, 'CRC': -0.19059393539072456, 'DELTA': -0.49054970084421845, 'DTAC': -0.35191101542077696, 'EA': -0.32711285649134747, 'EGCO': -0.2166064715410162, 'GLOBAL': -0.2754309973085497, 'GPSC': -0.3614036505381043, 'GULF': -0.2572513699961899, 'HMPRO': -0.24064837233522707, 'INTUCH': -0.21834981858816882, 'IVL': -0.35111744139608336, 'JMART': -0.5063445202328529, 'JMT': -0.42272278116174256, 'KBANK': -0.24854995632941657, 'KTB': -0.1646742618665996, 'KTC': -0.2367767939091331, 'LH': -0.1864375811431227, 'MINT': -0.314667231136321, 'MTC': -0.4926230064068622, 'OR': -0.30135404918106, 'OSP': -0.3293455905006216, 'PTT': -0.28676359560505615, 'PTTEP': -0.22178574437160314, 'PTTGC': -0.3432835740810064, 'RATCH': -0.25695837089831197, 'SCB': -0.43536028020149775, 'SCC': -0.2387086691528849, 'SCGP': -0.35295202279789784, 'TIDLOR': -0.3907383306120844, 'TISCO': -0.10740532653743151, 'TOP': -0.29876283370411083, 'TRUE': -0.3584327286687915, 'TTB': -0.28518641984460724, 'TU': -0.32440108589564975}\n",
            "{'JMART': -0.5063445202328529, 'MTC': -0.4926230064068622, 'DELTA': -0.49054970084421845, 'COM7': -0.4449800419996012, 'SCB': -0.43536028020149775, 'JMT': -0.42272278116174256, 'TIDLOR': -0.3907383306120844, 'CBG': -0.3623359785660073, 'GPSC': -0.3614036505381043, 'TRUE': -0.3584327286687915, 'BGRIM': -0.3578369726560865, 'SCGP': -0.35295202279789784, 'DTAC': -0.35191101542077696, 'IVL': -0.35111744139608336, 'PTTGC': -0.3432835740810064, 'OSP': -0.3293455905006216, 'EA': -0.32711285649134747, 'TU': -0.32440108589564975, 'MINT': -0.314667231136321, 'OR': -0.30135404918106, 'TOP': -0.29876283370411083, 'ADVANC': -0.29704192660196793, 'PTT': -0.28676359560505615, 'TTB': -0.28518641984460724, 'GLOBAL': -0.2754309973085497, 'BTS': -0.2723499651993986, 'CPF': -0.26798025794113167, 'BANPU': -0.2645463675815891, 'GULF': -0.2572513699961899, 'RATCH': -0.25695837089831197, 'KBANK': -0.24854995632941657, 'HMPRO': -0.24064837233522707, 'CENTEL': -0.2389488722037142, 'SCC': -0.2387086691528849, 'KTC': -0.2367767939091331, 'PTTEP': -0.22178574437160314, 'CPN': -0.21985010780354997, 'INTUCH': -0.21834981858816882, 'AWC': -0.21816256089092334, 'CPALL': -0.2166736224612602, 'EGCO': -0.2166064715410162, 'BDMS': -0.2089919382507196, 'BEM': -0.19792171637995026, 'BH': -0.19142116985415225, 'CRC': -0.19059393539072456, 'LH': -0.1864375811431227, 'BBL': -0.174888826658539, 'KTB': -0.1646742618665996, 'AOT': -0.12939847761040058, 'TISCO': -0.10740532653743151}\n"
          ]
        }
      ]
    },
    {
      "cell_type": "markdown",
      "source": [
        "Hight MDD _**JMART**___ % with _**50.6%**___ \n",
        "Lowest MDD _**TISCO**____ % with _**10.74%**____"
      ],
      "metadata": {
        "id": "WRUZCBnX06U1"
      }
    },
    {
      "cell_type": "markdown",
      "source": [
        "# 3. Construct a portfolio containing equal amoung of BGRIM and PTTEP. For simplicity, let us put 500k on each BGRIM and PTTEP on 04/01/222 (First trading day in 2022). Plot the gain of the port in 2022."
      ],
      "metadata": {
        "id": "LKn5e0vk17of"
      }
    },
    {
      "cell_type": "code",
      "source": [
        "bgrim =  yf.download(\"BGRIM.BK\", start=\"2022-01-01\", end=\"2022-12-20\") # load data from yahoo\n",
        "pttep =  yf.download(\"PTTEP.BK\", start=\"2022-01-01\", end=\"2022-12-20\") # load data from yahoo\n",
        "s_bgrim = 500_000/ bgrim.iloc[0]['Open'] # Buy BGRIM at the opening price on the first trading day\n",
        "s_pttep = 500_000/ pttep.iloc[0]['Open'] # Buy BGRIM at the opening price on the first trading day\n",
        "my_port = s_bgrim * bgrim['Adj Close'] + s_pttep * pttep['Adj Close'] \n",
        "plt.figure(figsize=(15,10))\n",
        "plt.plot(my_port/1_000_0000 - 1.0)\n",
        "plt.xlabel('Date')\n",
        "plt.ylabel(\"Gain\")\n",
        "plt.grid()"
      ],
      "metadata": {
        "colab": {
          "base_uri": "https://localhost:8080/",
          "height": 641
        },
        "id": "Qa5eK-Z42RzD",
        "outputId": "8cfdf49a-bbb3-4541-c504-e683e8958bb1"
      },
      "execution_count": null,
      "outputs": [
        {
          "output_type": "stream",
          "name": "stdout",
          "text": [
            "[*********************100%***********************]  1 of 1 completed\n",
            "[*********************100%***********************]  1 of 1 completed\n"
          ]
        },
        {
          "output_type": "display_data",
          "data": {
            "text/plain": [
              "<Figure size 1080x720 with 1 Axes>"
            ],
            "image/png": "[encoded data removed]"
          },
          "metadata": {
            "needs_background": "light"
          }
        }
      ]
    },
    {
      "cell_type": "markdown",
      "source": [
        "## 4. Compute the 1% MDD of the above portfolio."
      ],
      "metadata": {
        "id": "pWU5gcfr4YFQ"
      }
    },
    {
      "cell_type": "code",
      "source": [
        "log_ret_port = np.log(1+my_port.pct_change(1)).dropna()\n",
        "mu_port = log_ret_port.mean()\n",
        "std_portr = log_ret_port.std(ddof=1)\n",
        "mdd = np.exp(mu_port * T - z * std_portr * np.sqrt(T)) - 1\n",
        "print(f\"My port 1% MDD: {mdd:0.3f}\")"
      ],
      "metadata": {
        "colab": {
          "base_uri": "https://localhost:8080/"
        },
        "id": "l9AG2Akm4nau",
        "outputId": "a62c3857-91df-4b3f-d0b3-70878be4c0b4"
      },
      "execution_count": null,
      "outputs": [
        {
          "output_type": "stream",
          "name": "stdout",
          "text": [
            "My port 1% MDD: -0.162\n"
          ]
        }
      ]
    },
    {
      "cell_type": "markdown",
      "source": [
        "My Port MDD: _**16.2**______ , PTTEP MDD:_**28.68**_____, BGRIM MDD: _**35.8%**_____."
      ],
      "metadata": {
        "id": "Hs8tnrn55hji"
      }
    },
    {
      "cell_type": "markdown",
      "source": [
        "## 5. Why do my port MDD is significant smaller (less negative) both PTTEP and BGRIM? \n",
        "\n",
        "Answer__**The volatility of a portfolio containing multiple stocks that arer not highly correlated is lower than indvidual stocks**____________."
      ],
      "metadata": {
        "id": "kTOXBTuN5of3"
      }
    },
    {
      "cell_type": "markdown",
      "source": [
        "## 6. Compute lag 1 auto-correlation value $\\rho(1)$, and sort from the largest to smallest "
      ],
      "metadata": {
        "id": "ssZ9SFJbtSZ7"
      }
    },
    {
      "cell_type": "code",
      "source": [
        "rho1 = dict()\n",
        "for sym in set50:\n",
        "  rho1[sym] = log_ret[sym].autocorr(lag=1)\n",
        "rho1_sorted = {sym: rho for sym, rho in sorted(rho1.items(), key = lambda item: item[1], reverse=True)}\n",
        "print(rho1_sorted)"
      ],
      "metadata": {
        "colab": {
          "base_uri": "https://localhost:8080/"
        },
        "id": "es8yKm2ysKc4",
        "outputId": "41e745ab-f651-4c8f-acb4-789bc90006af"
      },
      "execution_count": null,
      "outputs": [
        {
          "output_type": "stream",
          "name": "stdout",
          "text": [
            "{'TOP': 0.20421272447087194, 'PTTGC': 0.16305775651044388, 'SCGP': 0.12850798068707447, 'GPSC': 0.10396142027513, 'KTC': 0.0883397460642183, 'CBG': 0.08472937441758276, 'IVL': 0.08210260644233994, 'MTC': 0.07428149945694223, 'EA': 0.06940781350852254, 'KBANK': 0.06916270006267845, 'GLOBAL': 0.06560646886271346, 'MINT': 0.05906698216765239, 'SCC': 0.05708878019644391, 'BGRIM': 0.05480247536374645, 'CPN': 0.03772108749639876, 'TTB': 0.03170370908506556, 'BANPU': 0.022027441756688266, 'TU': 0.021342856190818837, 'DELTA': 0.01352083497325038, 'PTTEP': 0.009655056394238424, 'JMT': 0.0003162219617524387, 'PTT': -0.00603783122964074, 'LH': -0.014790285007015737, 'CPF': -0.01793321253292274, 'SCB': -0.020531336340439386, 'TIDLOR': -0.02877854160278522, 'BBL': -0.03402844105943915, 'ADVANC': -0.03642370513998352, 'CPALL': -0.037924622881008056, 'BTS': -0.03930534178059624, 'HMPRO': -0.04449507473185824, 'JMART': -0.045474251235595065, 'INTUCH': -0.04947037493175869, 'OSP': -0.05011734303206711, 'BDMS': -0.056709982374606206, 'RATCH': -0.060853966092169504, 'COM7': -0.06204565909099368, 'BEM': -0.07170724610108559, 'OR': -0.08441416855485055, 'EGCO': -0.10091560910696726, 'CRC': -0.10970373020322725, 'CENTEL': -0.11742899034032286, 'TISCO': -0.11962544461594461, 'KTB': -0.12085437091322104, 'BH': -0.14119832797240578, 'GULF': -0.14873637651333, 'AOT': -0.16455684032107293, 'DTAC': -0.1769890539912564, 'TRUE': -0.1781243907182389, 'AWC': -0.19490803881166674}\n"
          ]
        }
      ]
    },
    {
      "cell_type": "markdown",
      "source": [
        "Highest $\\rho(1)$: _**TOP**____ and lowest $\\rho(1)$:_**AMC**________ "
      ],
      "metadata": {
        "id": "o4Y8-ozF6Quo"
      }
    },
    {
      "cell_type": "markdown",
      "source": [
        "## 7. Using the stock with highest $\\rho(1)$ to construct the minimum mean square error forcast using three hitorical vales to forecast future. An example is on 58 of the Lecture 05.\n",
        "Please note that\n",
        "\n",
        "$X_t = r_t - \\mu_r$ "
      ],
      "metadata": {
        "id": "7-Vsi-OxDq37"
      }
    },
    {
      "cell_type": "code",
      "source": [
        "mur = log_ret['TOP'].mean()\n",
        "x = log_ret['TOP'] - mur \n",
        "g0 = x.var(ddof=1)\n",
        "g1 = x.autocorr(lag=1) * g0\n",
        "g2 = x.autocorr(lag=2) * g0\n",
        "g3 = x.autocorr(lag=3) * g0\n",
        "A = np.array([[g0, g1, g0],\n",
        "              [g1, g0, g1],\n",
        "              [g2, g1, g0]])\n",
        "b = np.array([g1, g2, g3])\n",
        "alpha = np.linalg.solve(A,b)\n",
        "print(alpha)"
      ],
      "metadata": {
        "colab": {
          "base_uri": "https://localhost:8080/"
        },
        "id": "O-wJ0g9iDbpc",
        "outputId": "33fa37f2-2d9e-4cc8-e991-51e93ef83ac3"
      },
      "execution_count": null,
      "outputs": [
        {
          "output_type": "stream",
          "name": "stdout",
          "text": [
            "[ 0.29905908 -0.24787547 -0.04422703]\n"
          ]
        }
      ]
    },
    {
      "cell_type": "markdown",
      "source": [
        "The prediction is \n",
        "\n",
        "$\\hat{X}_{t+1}$ = **0.299** $X_{t}$ +  **-0.248** $X_{t-1}$ + **-0.044** $X_{t-2}$\n"
      ],
      "metadata": {
        "id": "Q3e_ekT4FU2q"
      }
    },
    {
      "cell_type": "markdown",
      "source": [
        "## 8. Using this forecast for trading strategy where you will take the all-in position (use all money to buy the stocks) if the forecast predicts $\\hat{r}_{t+1} = \\hat{X}_{t+1} + \\mu_r > 0$, and no position (sell all stocks to keep cash)if the forecast predicts $\\hat{r}_{t+1} = \\hat{X}_{t+1} + \\mu_r \\leq 0$.\n",
        "\n",
        "Let us assume that the initial wealth on 2021-01-04 is at 1,000,000 THB. Assume that there is no transaction cost and stocks are inifinitely divisible. \n",
        " - What is the final size of the portfolio at the end of 2022? \n",
        " - Gain or loss in percentages of this trading strategy. \n",
        " - Compare to buy-and-hold strategy where, on the first trading date, you take the all-in position and sell the stock at the end of 20222."
      ],
      "metadata": {
        "id": "Dyp5tOHBGOM5"
      }
    },
    {
      "cell_type": "code",
      "source": [
        "log_top = log_ret['TOP']\n",
        "top =  yf.download(\"TOP.BK\", start=\"2022-01-01\", end=\"2022-12-20\")['Adj Close'] # load data from yahoo \n",
        "init_wealth = 1_000_000\n",
        "wealth = []\n",
        "stock = []\n",
        "cash = []\n",
        "buy_and_hold = []\n",
        "\n",
        "for cnt, date in enumerate(log_top.index):\n",
        "  if cnt == 0:\n",
        "    sb = init_wealth / top[date]\n",
        "\n",
        "  buy_and_hold.append(sb * top[date])\n",
        "  if cnt < 3: # We need at least three historical dates\n",
        "    wealth.append(init_wealth)\n",
        "    stock.append(0)\n",
        "    cash.append(init_wealth)\n",
        "  else:\n",
        "    xt = log_top.iloc[cnt] - mur\n",
        "    xt_1 = log_top.iloc[cnt-1] - mur\n",
        "    xt_2 = log_top.iloc[cnt-2] - mur\n",
        "    xtp1 = alpha[0] * xt + alpha[1] * xt_1 + alpha[2] *  xt_2\n",
        "    if (xtp1 > 0) and (cash[-1] > 0 ): # buy\n",
        "      s = cash[-1] / top[date]\n",
        "      c = 0        \n",
        "    elif (xtp1 <= 0) and (stock[-1] > 0) : # sell\n",
        "      c = stock[-1] * top[date]\n",
        "      s = 0\n",
        "    else:\n",
        "      c = cash[-1] \n",
        "      s = stock[-1] \n",
        "    cash.append(c)\n",
        "    stock.append(s) \n",
        "    w = c + s * top[date] \n",
        "    wealth.append(w)\n",
        "  \n",
        "wealth = pd.Series(data=wealth, index=log_top.index)\n",
        "buy_and_hold = pd.Series(data=buy_and_hold, index=log_top.index)\n",
        "plt.figure(figsize=(15,10))\n",
        "plt.plot(wealth, label=\"Our strategy\")\n",
        "plt.plot(buy_and_hold, label=\"Buy and Hold\")\n",
        "plt.xlabel('Date')\n",
        "plt.legend()\n",
        "plt.grid()\n",
        "\n",
        "gain = wealth.iloc[-1] / init_wealth - 1 \n",
        "gain_bd = buy_and_hold.iloc[-1] / init_wealth - 1 \n",
        "print(f\"With our trading strategy, Final Wealth: {wealth.iloc[-1]:,.2f}, Gain (or Loss): {gain*100:0.2f}%.\")\n",
        "print(f\"With the buy-and-hold strategy, Final Wealth: {buy_and_hold.iloc[-1]:,.2f}, Gain (or Loss): {gain_bd*100:0.2f}%.\")\n",
        "\n"
      ],
      "metadata": {
        "colab": {
          "base_uri": "https://localhost:8080/",
          "height": 668
        },
        "id": "puUegtPXFDq6",
        "outputId": "020450d1-59d4-4a07-8118-8380143b56cd"
      },
      "execution_count": null,
      "outputs": [
        {
          "output_type": "stream",
          "name": "stdout",
          "text": [
            "\r[*********************100%***********************]  1 of 1 completed\n",
            "With our trading strategy, Final Wealth: 1,687,996.35, Gain (or Loss): 68.80%.\n",
            "With the buy-and-hold strategy, Final Wealth: 1,112,399.02, Gain (or Loss): 11.24%.\n"
          ]
        },
        {
          "output_type": "display_data",
          "data": {
            "text/plain": [
              "<Figure size 1080x720 with 1 Axes>"
            ],
            "image/png": "[encoded data removed]"
          },
          "metadata": {
            "needs_background": "light"
          }
        }
      ]
    },
    {
      "cell_type": "code",
      "source": [],
      "metadata": {
        "id": "Jk9raFa1K8zZ"
      },
      "execution_count": null,
      "outputs": []
    }
  ]
}